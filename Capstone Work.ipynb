{
 "cells": [
  {
   "cell_type": "markdown",
   "metadata": {},
   "source": [
    "# Capstone Project for the Data Science Specialization"
   ]
  },
  {
   "cell_type": "markdown",
   "metadata": {},
   "source": [
    "### Rafael Y. Imai - April 2021"
   ]
  },
  {
   "cell_type": "code",
   "execution_count": 5,
   "metadata": {},
   "outputs": [],
   "source": [
    "import pandas as pd\n",
    "import numpy as np\n",
    "import matplotlib.pyplot as plt"
   ]
  },
  {
   "cell_type": "markdown",
   "metadata": {},
   "source": [
    "Firstly, let's load the datasets with the investment funds CNPJ (similar to a company ID in Brazil, can be used to identify uniquely a given investment fund),the share value at a given date, along with the volume of subscriptions and redemptions in Brazilian Reais:"
   ]
  },
  {
   "cell_type": "code",
   "execution_count": 12,
   "metadata": {},
   "outputs": [
    {
     "name": "stdout",
     "output_type": "stream",
     "text": [
      "2017 inserted.\n",
      "2018 inserted.\n",
      "2019 inserted.\n",
      "2020 inserted.\n"
     ]
    }
   ],
   "source": [
    "historicSeries = pd.DataFrame()\n",
    "for year in range(2017,2021):\n",
    "    for month in range(1,12):\n",
    "        file = \"CVMData/inf_diario_fi_{0}{1}.csv\".format(year,str(month).zfill(2))\n",
    "        historicSeries = historicSeries.append(pd.read_csv(file, sep = \";\"))\n",
    "    print(\"{} inserted.\".format(year))\n",
    " "
   ]
  },
  {
   "cell_type": "markdown",
   "metadata": {},
   "source": [
    "Also, let's load a dataset with all of the investment funds that have existed since the early 90's in Brazil. This file was also obtained from CVM."
   ]
  },
  {
   "cell_type": "code",
   "execution_count": 9,
   "metadata": {},
   "outputs": [],
   "source": [
    "fundList = pd.read_excel(\"cad_fi.xlsx\")"
   ]
  },
  {
   "cell_type": "code",
   "execution_count": 14,
   "metadata": {},
   "outputs": [
    {
     "name": "stdout",
     "output_type": "stream",
     "text": [
      "(60378, 39)\n",
      "(14053831, 9)\n"
     ]
    }
   ],
   "source": [
    "print(fundList.shape)\n",
    "print(historicSeries.shape)"
   ]
  },
  {
   "cell_type": "code",
   "execution_count": 16,
   "metadata": {},
   "outputs": [
    {
     "data": {
      "text/html": [
       "<div>\n",
       "<style scoped>\n",
       "    .dataframe tbody tr th:only-of-type {\n",
       "        vertical-align: middle;\n",
       "    }\n",
       "\n",
       "    .dataframe tbody tr th {\n",
       "        vertical-align: top;\n",
       "    }\n",
       "\n",
       "    .dataframe thead th {\n",
       "        text-align: right;\n",
       "    }\n",
       "</style>\n",
       "<table border=\"1\" class=\"dataframe\">\n",
       "  <thead>\n",
       "    <tr style=\"text-align: right;\">\n",
       "      <th></th>\n",
       "      <th>TP_FUNDO</th>\n",
       "      <th>CNPJ_FUNDO</th>\n",
       "      <th>DENOM_SOCIAL</th>\n",
       "      <th>DT_REG</th>\n",
       "      <th>DT_CONST</th>\n",
       "      <th>CD_CVM</th>\n",
       "      <th>DT_CANCEL</th>\n",
       "      <th>SIT</th>\n",
       "      <th>DT_INI_SIT</th>\n",
       "      <th>DT_INI_ATIV</th>\n",
       "      <th>...</th>\n",
       "      <th>ADMIN</th>\n",
       "      <th>PF_PJ_GESTOR</th>\n",
       "      <th>CPF_CNPJ_GESTOR</th>\n",
       "      <th>GESTOR</th>\n",
       "      <th>CNPJ_AUDITOR</th>\n",
       "      <th>AUDITOR</th>\n",
       "      <th>CNPJ_CUSTODIANTE</th>\n",
       "      <th>CUSTODIANTE</th>\n",
       "      <th>CNPJ_CONTROLADOR</th>\n",
       "      <th>CONTROLADOR</th>\n",
       "    </tr>\n",
       "  </thead>\n",
       "  <tbody>\n",
       "    <tr>\n",
       "      <th>0</th>\n",
       "      <td>FACFIF</td>\n",
       "      <td>00.000.684/0001-21</td>\n",
       "      <td>DEUTSCHE BANK FDO APLIC QUOTAS FDO INV FINANCE...</td>\n",
       "      <td>2003-04-30</td>\n",
       "      <td>1994-12-20</td>\n",
       "      <td>19.0</td>\n",
       "      <td>2000-08-01</td>\n",
       "      <td>CANCELADA</td>\n",
       "      <td>2000-08-01</td>\n",
       "      <td>NaT</td>\n",
       "      <td>...</td>\n",
       "      <td>NaN</td>\n",
       "      <td>NaN</td>\n",
       "      <td>NaN</td>\n",
       "      <td>NaN</td>\n",
       "      <td>NaN</td>\n",
       "      <td>NaN</td>\n",
       "      <td>NaN</td>\n",
       "      <td>NaN</td>\n",
       "      <td>NaN</td>\n",
       "      <td>NaN</td>\n",
       "    </tr>\n",
       "  </tbody>\n",
       "</table>\n",
       "<p>1 rows × 39 columns</p>\n",
       "</div>"
      ],
      "text/plain": [
       "  TP_FUNDO          CNPJ_FUNDO  \\\n",
       "0   FACFIF  00.000.684/0001-21   \n",
       "\n",
       "                                        DENOM_SOCIAL     DT_REG   DT_CONST  \\\n",
       "0  DEUTSCHE BANK FDO APLIC QUOTAS FDO INV FINANCE... 2003-04-30 1994-12-20   \n",
       "\n",
       "   CD_CVM  DT_CANCEL        SIT DT_INI_SIT DT_INI_ATIV  ... ADMIN  \\\n",
       "0    19.0 2000-08-01  CANCELADA 2000-08-01         NaT  ...   NaN   \n",
       "\n",
       "  PF_PJ_GESTOR CPF_CNPJ_GESTOR GESTOR CNPJ_AUDITOR AUDITOR CNPJ_CUSTODIANTE  \\\n",
       "0          NaN             NaN    NaN          NaN     NaN              NaN   \n",
       "\n",
       "  CUSTODIANTE CNPJ_CONTROLADOR CONTROLADOR  \n",
       "0         NaN              NaN         NaN  \n",
       "\n",
       "[1 rows x 39 columns]"
      ]
     },
     "execution_count": 16,
     "metadata": {},
     "output_type": "execute_result"
    }
   ],
   "source": [
    "fundList.head(1)"
   ]
  },
  {
   "cell_type": "markdown",
   "metadata": {},
   "source": [
    "On the scope of this study, only common Investment Funds (\"FI\") will be considered. Every form of Investment Fund in Brazil is regulated by CVM, so funds that have a specific purpose (e.g., FUNCINE funds, special investment funds whose objective is to support the movie industry) and certain funds that are closed-end funds (such as FII - Fundos de Investimento Imobiliário or Real Estate Investment Funds, similar to REITs) will be discarded.\n",
    "\n",
    "\n",
    "\n",
    "Also, in order to provide a consistent first sample, only funds that happened to exist between December 31, 2016 and today or existed in January 1, 2017 and were closed in 2021 were considered."
   ]
  },
  {
   "cell_type": "code",
   "execution_count": 30,
   "metadata": {},
   "outputs": [],
   "source": [
    "firstFundFilterLayer = fundList[((fundList[\"TP_FUNDO\"]==\"FI\")\n",
    "                                 &(((fundList[\"DT_REG\"]<\"2016-12-31\")&(fundList[\"DT_CANCEL\"]>\"2020-12-31\"))\n",
    "                                   |((fundList[\"DT_REG\"]<\"2016-12-31\")&(fundList[\"SIT\"]==\"EM FUNCIONAMENTO NORMAL\"))))]"
   ]
  },
  {
   "cell_type": "code",
   "execution_count": 33,
   "metadata": {},
   "outputs": [
    {
     "data": {
      "text/html": [
       "<div>\n",
       "<style scoped>\n",
       "    .dataframe tbody tr th:only-of-type {\n",
       "        vertical-align: middle;\n",
       "    }\n",
       "\n",
       "    .dataframe tbody tr th {\n",
       "        vertical-align: top;\n",
       "    }\n",
       "\n",
       "    .dataframe thead th {\n",
       "        text-align: right;\n",
       "    }\n",
       "</style>\n",
       "<table border=\"1\" class=\"dataframe\">\n",
       "  <thead>\n",
       "    <tr style=\"text-align: right;\">\n",
       "      <th></th>\n",
       "      <th>TP_FUNDO</th>\n",
       "      <th>CNPJ_FUNDO</th>\n",
       "      <th>DENOM_SOCIAL</th>\n",
       "      <th>DT_REG</th>\n",
       "      <th>DT_CONST</th>\n",
       "      <th>CD_CVM</th>\n",
       "      <th>DT_CANCEL</th>\n",
       "      <th>SIT</th>\n",
       "      <th>DT_INI_SIT</th>\n",
       "      <th>DT_INI_ATIV</th>\n",
       "      <th>...</th>\n",
       "      <th>ADMIN</th>\n",
       "      <th>PF_PJ_GESTOR</th>\n",
       "      <th>CPF_CNPJ_GESTOR</th>\n",
       "      <th>GESTOR</th>\n",
       "      <th>CNPJ_AUDITOR</th>\n",
       "      <th>AUDITOR</th>\n",
       "      <th>CNPJ_CUSTODIANTE</th>\n",
       "      <th>CUSTODIANTE</th>\n",
       "      <th>CNPJ_CONTROLADOR</th>\n",
       "      <th>CONTROLADOR</th>\n",
       "    </tr>\n",
       "  </thead>\n",
       "  <tbody>\n",
       "    <tr>\n",
       "      <th>5290</th>\n",
       "      <td>FI</td>\n",
       "      <td>00.017.024/0001-53</td>\n",
       "      <td>FUNDO DE INVESTIMENTO RENDA FIXA EXPONENCIAL</td>\n",
       "      <td>2005-03-31</td>\n",
       "      <td>1994-06-22</td>\n",
       "      <td>43613.0</td>\n",
       "      <td>NaT</td>\n",
       "      <td>EM FUNCIONAMENTO NORMAL</td>\n",
       "      <td>2005-03-18</td>\n",
       "      <td>1994-06-22</td>\n",
       "      <td>...</td>\n",
       "      <td>BANCO BRADESCO S.A.</td>\n",
       "      <td>PJ</td>\n",
       "      <td>62.375.134/0001-44</td>\n",
       "      <td>BRAM - BRADESCO ASSET MANAGEMENT S.A. DISTRIBU...</td>\n",
       "      <td>57.755.217/0001-29</td>\n",
       "      <td>KPMG AUDITORES INDEPENDENTES</td>\n",
       "      <td>60.746.948/0001-12</td>\n",
       "      <td>BANCO BRADESCO S.A.</td>\n",
       "      <td>60.746.948/0001-12</td>\n",
       "      <td>BANCO BRADESCO S.A.</td>\n",
       "    </tr>\n",
       "  </tbody>\n",
       "</table>\n",
       "<p>1 rows × 39 columns</p>\n",
       "</div>"
      ],
      "text/plain": [
       "     TP_FUNDO          CNPJ_FUNDO  \\\n",
       "5290       FI  00.017.024/0001-53   \n",
       "\n",
       "                                      DENOM_SOCIAL     DT_REG   DT_CONST  \\\n",
       "5290  FUNDO DE INVESTIMENTO RENDA FIXA EXPONENCIAL 2005-03-31 1994-06-22   \n",
       "\n",
       "       CD_CVM DT_CANCEL                      SIT DT_INI_SIT DT_INI_ATIV  ...  \\\n",
       "5290  43613.0       NaT  EM FUNCIONAMENTO NORMAL 2005-03-18  1994-06-22  ...   \n",
       "\n",
       "                    ADMIN PF_PJ_GESTOR     CPF_CNPJ_GESTOR  \\\n",
       "5290  BANCO BRADESCO S.A.           PJ  62.375.134/0001-44   \n",
       "\n",
       "                                                 GESTOR        CNPJ_AUDITOR  \\\n",
       "5290  BRAM - BRADESCO ASSET MANAGEMENT S.A. DISTRIBU...  57.755.217/0001-29   \n",
       "\n",
       "                           AUDITOR    CNPJ_CUSTODIANTE          CUSTODIANTE  \\\n",
       "5290  KPMG AUDITORES INDEPENDENTES  60.746.948/0001-12  BANCO BRADESCO S.A.   \n",
       "\n",
       "        CNPJ_CONTROLADOR          CONTROLADOR  \n",
       "5290  60.746.948/0001-12  BANCO BRADESCO S.A.  \n",
       "\n",
       "[1 rows x 39 columns]"
      ]
     },
     "execution_count": 33,
     "metadata": {},
     "output_type": "execute_result"
    }
   ],
   "source": [
    "firstFundFilterLayer.head(1)"
   ]
  },
  {
   "cell_type": "markdown",
   "metadata": {},
   "source": [
    "Some peculiarities of the Brazilian investment fund market must be observed. Among the funds present on the first selection, there might be exclusive funds (funds with a single shareholder or a select set of shareholders, that may apply in illiquid assets and not be subjected to frequent subscriptions and redemptions). As one of the main objects of this work is to assess whether macroeconomic variables have a significant impact on the volume of subscriptions and redemptions, it is interesting to filter out funds that are not subject to a regular volume of subscriptions and redemptions.\n",
    "\n",
    "In this case, I will use the portfolio of IHFA, a market index provided by ANBIMA, an association whose members are companies involved with the financial sector in Brazil. IHFA stands for *Índice de Hedge Funds ANBIMA*, ANBIMA Hedge Funds Index in a literal translation. The portfolio selection criteria involve, among other rules, a minimum of ten shareholders and the exclusion of such exclusive funds.\n",
    "\n",
    "More info can be found (in portuguese) at this link: https://www.anbima.com.br/pt_br/informar/precos-e-indices/indices/ihfa.htm.\n",
    "\n",
    "The portfolio of the last quarter of 2020 will be used to assemble a list of funds, as it corresponds roughly to the end of the selected period. I had to post-process the portfolio file manually, as only a general report including some statistics about the index and the portfolio composition is published. The original file can be found here https://www.anbima.com.br/data/files/04/35/26/3E/E9E057106A070057882BA2A8/IHFA%20-%204T20.xlsx, but I will use a manually assembled Excel spreadsheet to store the CNPJ and the hedge fund names."
   ]
  },
  {
   "cell_type": "code",
   "execution_count": 36,
   "metadata": {},
   "outputs": [
    {
     "data": {
      "text/html": [
       "<div>\n",
       "<style scoped>\n",
       "    .dataframe tbody tr th:only-of-type {\n",
       "        vertical-align: middle;\n",
       "    }\n",
       "\n",
       "    .dataframe tbody tr th {\n",
       "        vertical-align: top;\n",
       "    }\n",
       "\n",
       "    .dataframe thead th {\n",
       "        text-align: right;\n",
       "    }\n",
       "</style>\n",
       "<table border=\"1\" class=\"dataframe\">\n",
       "  <thead>\n",
       "    <tr style=\"text-align: right;\">\n",
       "      <th></th>\n",
       "      <th>CNPJ</th>\n",
       "      <th>Nome do Fundo</th>\n",
       "    </tr>\n",
       "  </thead>\n",
       "  <tbody>\n",
       "    <tr>\n",
       "      <th>0</th>\n",
       "      <td>27.944.378/0001-08</td>\n",
       "      <td>ABSOLUTE ESTRATÉGIA VERTEX FUNDO DE INVESTIMEN...</td>\n",
       "    </tr>\n",
       "    <tr>\n",
       "      <th>1</th>\n",
       "      <td>28.947.266/0001-65</td>\n",
       "      <td>ABSOLUTE VERTEX ADVISORY FUNDO DE INVESTIMENTO...</td>\n",
       "    </tr>\n",
       "    <tr>\n",
       "      <th>2</th>\n",
       "      <td>18.422.272/0001-45</td>\n",
       "      <td>ABSOLUTE VERTEX CSHG FUNDO DE INVESTIMENTO EM ...</td>\n",
       "    </tr>\n",
       "    <tr>\n",
       "      <th>3</th>\n",
       "      <td>21.470.989/0001-77</td>\n",
       "      <td>ABSOLUTE VERTEX FUNDO DE INVESTIMENTO EM COTAS...</td>\n",
       "    </tr>\n",
       "    <tr>\n",
       "      <th>4</th>\n",
       "      <td>23.565.803/0001-99</td>\n",
       "      <td>ABSOLUTE VERTEX II FUNDO DE INVESTIMENTO EM CO...</td>\n",
       "    </tr>\n",
       "  </tbody>\n",
       "</table>\n",
       "</div>"
      ],
      "text/plain": [
       "                 CNPJ                                      Nome do Fundo\n",
       "0  27.944.378/0001-08  ABSOLUTE ESTRATÉGIA VERTEX FUNDO DE INVESTIMEN...\n",
       "1  28.947.266/0001-65  ABSOLUTE VERTEX ADVISORY FUNDO DE INVESTIMENTO...\n",
       "2  18.422.272/0001-45  ABSOLUTE VERTEX CSHG FUNDO DE INVESTIMENTO EM ...\n",
       "3  21.470.989/0001-77  ABSOLUTE VERTEX FUNDO DE INVESTIMENTO EM COTAS...\n",
       "4  23.565.803/0001-99  ABSOLUTE VERTEX II FUNDO DE INVESTIMENTO EM CO..."
      ]
     },
     "execution_count": 36,
     "metadata": {},
     "output_type": "execute_result"
    }
   ],
   "source": [
    "ihfaFirstQuarter20 = pd.read_excel(\"ANBIMAData/1Q2020-IHFA.xlsx\")\n",
    "ihfaFirstQuarter20.head()"
   ]
  },
  {
   "cell_type": "code",
   "execution_count": null,
   "metadata": {},
   "outputs": [],
   "source": []
  }
 ],
 "metadata": {
  "kernelspec": {
   "display_name": "Python 3",
   "language": "python",
   "name": "python3"
  },
  "language_info": {
   "codemirror_mode": {
    "name": "ipython",
    "version": 3
   },
   "file_extension": ".py",
   "mimetype": "text/x-python",
   "name": "python",
   "nbconvert_exporter": "python",
   "pygments_lexer": "ipython3",
   "version": "3.8.5"
  }
 },
 "nbformat": 4,
 "nbformat_minor": 4
}
