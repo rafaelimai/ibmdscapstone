{
 "cells": [
  {
   "cell_type": "markdown",
   "metadata": {},
   "source": [
    "# Capstone Project for the Data Science Specialization"
   ]
  },
  {
   "cell_type": "markdown",
   "metadata": {},
   "source": [
    "### Rafael Y. Imai - April 2021"
   ]
  },
  {
   "cell_type": "code",
   "execution_count": 75,
   "metadata": {},
   "outputs": [],
   "source": [
    "import pandas as pd\n",
    "import numpy as np\n",
    "import matplotlib.pyplot as plt\n",
    "import yfinance as yf\n"
   ]
  },
  {
   "cell_type": "markdown",
   "metadata": {},
   "source": [
    "Firstly, let's load the datasets with the investment funds CNPJ (similar to a company ID in Brazil, can be used to identify uniquely a given investment fund),the share value at a given date, along with the volume of subscriptions and redemptions in Brazilian Reais:"
   ]
  },
  {
   "cell_type": "code",
   "execution_count": 76,
   "metadata": {},
   "outputs": [
    {
     "name": "stdout",
     "output_type": "stream",
     "text": [
      "2018 inserted.\n",
      "2019 inserted.\n",
      "2020 inserted.\n"
     ]
    }
   ],
   "source": [
    "historicSeries = pd.DataFrame()\n",
    "for year in range(2017,2021):\n",
    "    for month in range(1,13):\n",
    "        file = \"CVMData/inf_diario_fi_{0}{1}.csv\".format(year,str(month).zfill(2))\n",
    "        historicSeries = historicSeries.append(pd.read_csv(file, sep = \";\"))\n",
    "    print(\"{} inserted.\".format(year))\n",
    "\n",
    "historicSeries=historicSeries[[\"CNPJ_FUNDO\",\"DT_COMPTC\",\"VL_TOTAL\",\"VL_QUOTA\",\"VL_PATRIM_LIQ\",\"CAPTC_DIA\",\"RESG_DIA\",\"NR_COTST\"]]\n"
   ]
  },
  {
   "cell_type": "markdown",
   "metadata": {},
   "source": [
    "Also, let's load a dataset with all of the investment funds that have existed since the early 90's in Brazil. This file was also obtained from CVM."
   ]
  },
  {
   "cell_type": "code",
   "execution_count": 77,
   "metadata": {},
   "outputs": [],
   "source": [
    "fundList = pd.read_excel(\"cad_fi.xlsx\")\n",
    "fundList=fundList.rename(columns={'CNPJ_FUNDO':'CNPJ'})"
   ]
  },
  {
   "cell_type": "markdown",
   "metadata": {},
   "source": [
    "#### Another dataset that we will use is the historic series of the IBOVESPA index, the stock market index for the São Paulo Stock Exchange."
   ]
  },
  {
   "cell_type": "code",
   "execution_count": 78,
   "metadata": {},
   "outputs": [],
   "source": [
    "ibov = yf.Ticker('^BVSP')\n",
    "ibovHistoric = ibov.history(start=\"2016-12-31\",end=\"2021-1-1\")\n",
    "ibovHistoricClose = ibovHistoric[[\"Close\"]] \n",
    "ibovHistoricClose = ibovHistoricClose.rename(columns={'Date':'DATE',\"Close\":\"CLOSE\"}) "
   ]
  },
  {
   "cell_type": "markdown",
   "metadata": {},
   "source": [
    "#### Random stuff about the SELIC rate"
   ]
  },
  {
   "cell_type": "code",
   "execution_count": 79,
   "metadata": {},
   "outputs": [],
   "source": [
    "selicData = pd.read_json(\"http://api.bcb.gov.br/dados/serie/bcdata.sgs.4189/dados?formato=json&dataInicial=01/01/2017&dataFinal=31/12/2020\")\n",
    "selicData.head()\n",
    "selicData[\"data\"]=pd.to_datetime(selicData.data)\n",
    "selicData = selicData.set_index(\"data\") "
   ]
  },
  {
   "cell_type": "code",
   "execution_count": 80,
   "metadata": {},
   "outputs": [],
   "source": [
    "historicSeries['CAP_LIQ']=historicSeries['CAPTC_DIA']-historicSeries['RESG_DIA']\n",
    "historicSeries['TKT_MED']=historicSeries['VL_PATRIM_LIQ']/historicSeries['NR_COTST']"
   ]
  },
  {
   "cell_type": "markdown",
   "metadata": {},
   "source": [
    "Some peculiarities of the Brazilian investment fund market must be observed. Among the funds present on the first selection, there might be exclusive funds (funds with a single shareholder or a select set of shareholders, that may apply in illiquid assets and not be subjected to frequent subscriptions and redemptions). As one of the main objects of this work is to assess whether macroeconomic variables have a significant impact on the volume of subscriptions and redemptions, it is interesting to filter out funds that are not subject to a regular volume of subscriptions and redemptions.\n",
    "\n",
    "In this case, I will use the portfolio of IHFA, a market index provided by ANBIMA, an association whose members are companies involved with the financial sector in Brazil. IHFA stands for *Índice de Hedge Funds ANBIMA*, ANBIMA Hedge Funds Index in a literal translation. The portfolio selection criteria involve, among other rules, a minimum of ten shareholders and the exclusion of such exclusive funds.\n",
    "\n",
    "More info can be found (in portuguese) at this link: https://www.anbima.com.br/pt_br/informar/precos-e-indices/indices/ihfa.htm.\n",
    "\n",
    "The portfolio of the last quarter of 2020 will be used to assemble a list of funds, as it corresponds roughly to the end of the selected period. I had to post-process the portfolio file manually, as only a general report including some statistics about the index and the portfolio composition is published. The original file can be found here https://www.anbima.com.br/data/files/04/35/26/3E/E9E057106A070057882BA2A8/IHFA%20-%204T20.xlsx, but I will use a manually assembled Excel spreadsheet to store the CNPJ and the hedge fund names."
   ]
  },
  {
   "cell_type": "code",
   "execution_count": 81,
   "metadata": {},
   "outputs": [
    {
     "data": {
      "text/plain": [
       "(244, 2)"
      ]
     },
     "execution_count": 81,
     "metadata": {},
     "output_type": "execute_result"
    }
   ],
   "source": [
    "ihfaFirstQuarter20 = pd.read_excel(\"ANBIMAData/1Q2020-IHFA.xlsx\")\n",
    "ihfaFirstQuarter20.shape"
   ]
  },
  {
   "cell_type": "markdown",
   "metadata": {},
   "source": [
    "On the scope of this study, only common Investment Funds (\"FI\") will be considered. Every form of Investment Fund in Brazil is regulated by CVM, so funds that have a specific purpose (e.g., FUNCINE funds, special investment funds whose objective is to support the movie industry) and certain funds that are closed-end funds (such as FII - Fundos de Investimento Imobiliário or Real Estate Investment Funds, similar to REITs) will be discarded.\n",
    "\n",
    "\n",
    "\n",
    "Also, in order to provide a consistent first sample, only funds that happened to exist between December 31, 2016 and today or existed in January 1, 2017 and were closed in 2021 were considered."
   ]
  },
  {
   "cell_type": "code",
   "execution_count": 103,
   "metadata": {},
   "outputs": [],
   "source": [
    "def mount_FirstLayer(lowerLimit,upperLimit):\n",
    "    firstFundFilterLayer = fundList[((fundList[\"TP_FUNDO\"]==\"FI\")\n",
    "                                 &(((fundList[\"DT_REG\"]<lowerLimit)&(fundList[\"DT_CANCEL\"]>upperLimit))\n",
    "                                   |((fundList[\"DT_REG\"]<lowerLimit)&(fundList[\"SIT\"]==\"EM FUNCIONAMENTO NORMAL\"))))]\n",
    "    return firstFundFilterLayer"
   ]
  },
  {
   "cell_type": "code",
   "execution_count": 104,
   "metadata": {},
   "outputs": [],
   "source": [
    "def mount_FinalLayers(firstFundFilterLayer):\n",
    "    secondFundFilterLayer = firstFundFilterLayer[firstFundFilterLayer[\"DENOM_SOCIAL\"].str.contains(\"COTA\")]\n",
    "    tagsFixedIncome = [' RENDA FIXA ',' RF ']\n",
    "\n",
    "    fixedIncomeFundFilterLayer = secondFundFilterLayer[secondFundFilterLayer[\"DENOM_SOCIAL\"].str.contains('|'.join(tagsFixedIncome))]\n",
    "    #fixedIncomeFundFilterLayer[['CNPJ_FUNDO','DENOM_SOCIAL']]\n",
    "\n",
    "    tagsPrivateBonds = [' CP ',' CRED PRIV ',' CRÉD PRIV ',' CRED. PRIV. ',' CRÉD. PRIV. ',' CRÉDITO PRIVADO ', ' CREDITO PRIVADO ']\n",
    "\n",
    "\n",
    "    privateBondsFundFilterLayer = secondFundFilterLayer[secondFundFilterLayer[\"DENOM_SOCIAL\"].\n",
    "                                                        str.contains('|'.join(tagsPrivateBonds))]\n",
    "\n",
    "    tagsInterbankRate = [' REFERENCIADO DI ', ' REF DI ']\n",
    "    interbankRateFundFilterLayer = secondFundFilterLayer[secondFundFilterLayer[\"DENOM_SOCIAL\"].str.contains('|'.join(tagsInterbankRate))]\n",
    "    \n",
    "    return [fixedIncomeFundFilterLayer,privateBondsFundFilterLayer,interbankRateFundFilterLayer]"
   ]
  },
  {
   "cell_type": "code",
   "execution_count": 105,
   "metadata": {},
   "outputs": [],
   "source": [
    "lowerLimit = \"2017-12-31\"\n",
    "upperLimit = \"2020-12-31\"\n",
    "firstFundFilterLayer = mount_FirstLayer(lowerLimit,upperLimit)\n",
    "filters = mount_FinalLayers(firstFundFilterLayer)\n",
    "fixedIncomeFundFilterLayer = filters[0]\n",
    "privateBondsFundFilterLayer = filters[1]\n",
    "interbankRateFundFilterLayer = filters[2]"
   ]
  },
  {
   "cell_type": "markdown",
   "metadata": {},
   "source": [
    "Afterwards, funds that use a master-feeder structure (a feeder fund that receive subscriptions and subscribes to a master fund, the fund that actually purchase securities and stock) will be filtered, considering only feeders (in portuguese, Fundos de Investimento em Cotas de Fundos de Investimentos)."
   ]
  },
  {
   "cell_type": "code",
   "execution_count": 106,
   "metadata": {},
   "outputs": [],
   "source": [
    "def run_standard_analysis(historicSeries,fundList):\n",
    "    \n",
    "    dumpColumns = ['CNPJ','IbovCorrelation','SELICCorrelation','flowCorrelation','avgTicketCorrelation','vol']\n",
    "    \n",
    "    insightsFund = pd.DataFrame()\n",
    "    insightsFund_SELIC = pd.DataFrame()\n",
    "    insightsFund_Flow = pd.DataFrame()\n",
    "    insightsFund_AvgTicket = pd.DataFrame()\n",
    "    insightsFund_Dump = pd.DataFrame(columns=dumpColumns)\n",
    "\n",
    "    dailyStatsHistoricSeries=historicSeries[historicSeries[\"CNPJ_FUNDO\"].isin(fundList[\"CNPJ\"])]\n",
    "    dailyStatsHistoricSeries=dailyStatsHistoricSeries.rename(columns={'CNPJ_FUNDO':'CNPJ',\"DT_COMPTC\":\"DATE\"})\n",
    " \n",
    "    for cnpj in fundList['CNPJ']:\n",
    "        historicFundTemp = dailyStatsHistoricSeries[dailyStatsHistoricSeries['CNPJ']==cnpj]    \n",
    "        historicFundTemp.set_index(\"DATE\", inplace = True)  \n",
    "        historicFundTemp = historicFundTemp.join(ibovHistoricClose)    \n",
    "        historicFundTemp = historicFundTemp.dropna()\n",
    "        historicFundTemp = historicFundTemp.join(selicData)\n",
    "        \n",
    "        \n",
    "        \n",
    "        stockCorrelation = [[cnpj,historicFundTemp[[\"NR_COTST\",\"CLOSE\"]].corr().iloc[1,0]]]\n",
    "        SELICCorrelation = [[cnpj,historicFundTemp[[\"NR_COTST\",\"valor\"]].corr().iloc[1,0]]]\n",
    "        flowCorrelation = [[cnpj,historicFundTemp[[\"NR_COTST\",\"CAP_LIQ\"]].corr().iloc[1,0]]]\n",
    "        avgTicketCorrelation = [[cnpj,historicFundTemp[[\"NR_COTST\",\"TKT_MED\"]].corr().iloc[1,0]]]   \n",
    "        vol = [[cnpj,historicFundTemp[\"VL_QUOTA\"].std()/historicFundTemp[\"VL_QUOTA\"].mean()]]\n",
    "        \n",
    "        insightsFund = insightsFund.append(stockCorrelation)   \n",
    "        insightsFund_SELIC = insightsFund_SELIC.append(SELICCorrelation) \n",
    "        insightsFund_Flow = insightsFund_Flow.append(flowCorrelation) \n",
    "        insightsFund_AvgTicket = insightsFund_AvgTicket.append(avgTicketCorrelation) \n",
    "        \n",
    "    insightsFund_Dump=insightsFund_Dump.append({'CNPJ':cnpj,'IbovCorrelation':stockCorrelation[0][1],'SELICCorrelation':SELICCorrelation[0][1],'flowCorrelation':flowCorrelation[0][1],'avgTicketCorrelation':avgTicketCorrelation[0][1],'vol':vol[0][1]},ignore_index=True)\n",
    "    \n",
    "    return [insightsFund, insightsFund_SELIC, insightsFund_Flow, insightsFund_AvgTicket, insightsFund_Dump]"
   ]
  },
  {
   "cell_type": "code",
   "execution_count": 107,
   "metadata": {},
   "outputs": [],
   "source": [
    "def plot_graphs(insightsFund, insightsFund_SELIC, insightsFund_Flow, insightsFund_AvgTicket, binCount, main_Title):\n",
    "    fig, axs = plt.subplots(1, 4, sharex=False, sharey=False)\n",
    "    fig.set_size_inches(11,4)\n",
    "    plt.suptitle(main_Title)\n",
    "\n",
    "    axs[0].hist(insightsFund[[1]], bins=11)\n",
    "    axs[0].set_title(\"shareholders vs stock market index\")\n",
    "    axs[0].set_xlabel(\"Correlations\")\n",
    "    axs[0].set_ylabel(\"# Funds\")  \n",
    "\n",
    "\n",
    "    axs[1].hist(insightsFund_SELIC[[1]], bins=11)\n",
    "    axs[1].set_title(\"shareholders vs SELIC rates\")\n",
    "    axs[1].set_xlabel(\"Correlations\")\n",
    "    axs[1].set_ylabel(\"# Funds\")  \n",
    "\n",
    "    axs[2].hist(insightsFund_Flow[[1]], bins=11)\n",
    "    axs[2].set_title(\"shareholders vs capital flow\")\n",
    "    axs[2].set_xlabel(\"Correlations\")\n",
    "    axs[2].set_ylabel(\"# Funds\")  \n",
    "\n",
    "    axs[3].hist(insightsFund_AvgTicket[[1]], bins=11)\n",
    "    axs[3].set_title(\"shareholders vs avg ticket\")\n",
    "    axs[3].set_xlabel(\"Correlations\")\n",
    "    axs[3].set_ylabel(\"# Funds\")      \n",
    "\n",
    "    plt.tight_layout()\n",
    "    plt.show()"
   ]
  },
  {
   "cell_type": "markdown",
   "metadata": {},
   "source": [
    "### IHFA"
   ]
  },
  {
   "cell_type": "code",
   "execution_count": 89,
   "metadata": {},
   "outputs": [],
   "source": [
    "ihfaHistoricSeries = historicSeries[historicSeries[\"CNPJ_FUNDO\"].isin(ihfaFirstQuarter20[\"CNPJ\"])]\n",
    "ihfaHistoricSeries = ihfaHistoricSeries.rename(columns={'CNPJ_FUNDO':'CNPJ',\"DT_COMPTC\":\"DATE\"})\n",
    "\n",
    "results = run_standard_analysis(historicSeries,ihfaFirstQuarter20)\n",
    "insightsIhfa = results[0]\n",
    "insightsIhfa_SELIC = results[1]\n",
    "insightsIhfa_Flow = results[2]\n",
    "insightsIhfa_AvgTicket = results[3]\n",
    "insightsIhfa_Dump = results[4]\n",
    "plot_graphs(insightsIhfa, insightsIhfa_SELIC, insightsIhfa_Flow, insightsIhfa_AvgTicket,11,\"IHFA Funds Results\")"
   ]
  },
  {
   "cell_type": "markdown",
   "metadata": {},
   "source": [
    "#### Interbank Rate Funds"
   ]
  },
  {
   "cell_type": "code",
   "execution_count": 91,
   "metadata": {},
   "outputs": [],
   "source": [
    "interbankHistoricSeries = historicSeries[historicSeries[\"CNPJ_FUNDO\"].isin(interbankRateFundFilterLayer[\"CNPJ\"])]\n",
    "interbankHistoricSeries = interbankHistoricSeries.rename(columns={'CNPJ_FUNDO':'CNPJ',\"DT_COMPTC\":\"DATE\"})\n",
    "\n",
    "\n",
    "results = run_standard_analysis(historicSeries,interbankRateFundFilterLayer)\n",
    "insightsInterbankRate = results[0]\n",
    "insightsInterbankRate_SELIC = results[1]\n",
    "insightsInterbankRate_Flow = results[2]\n",
    "insightsInterbankRate_AvgTicket = results[3]\n",
    "insightsInterbankRate_Dump = results[4]\n",
    "\n",
    "plot_graphs(insightsInterbankRate, insightsInterbankRate_SELIC, insightsInterbankRate_Flow, insightsInterbankRate_AvgTicket,11,\"Interbank Rate Funds Results\")"
   ]
  },
  {
   "cell_type": "markdown",
   "metadata": {},
   "source": [
    "#### Fixed Income Rate Funds"
   ]
  },
  {
   "cell_type": "code",
   "execution_count": 93,
   "metadata": {},
   "outputs": [
    {
     "data": {
      "image/png": "[encoded data removed]",
      "text/plain": [
       "<Figure size 792x288 with 4 Axes>"
      ]
     },
     "metadata": {
      "needs_background": "light"
     },
     "output_type": "display_data"
    }
   ],
   "source": [
    "fixedIncomeHistoricSeries = historicSeries[historicSeries[\"CNPJ_FUNDO\"].isin(fixedIncomeFundFilterLayer[\"CNPJ\"])]\n",
    "fixedIncomeHistoricSeries = fixedIncomeHistoricSeries.rename(columns={'CNPJ_FUNDO':'CNPJ',\"DT_COMPTC\":\"DATE\"})\n",
    "\n",
    "\n",
    "results = run_standard_analysis(historicSeries,fixedIncomeFundFilterLayer)\n",
    "insightsFixedIncome = results[0]\n",
    "insightsFI_SELIC = results[1]\n",
    "insightsFI_Flow = results[2]\n",
    "insightsFI_AvgTicket = results[3]\n",
    "insightsFI_Dump = results[4]\n",
    "\n",
    "plot_graphs(insightsFixedIncome, insightsFI_SELIC, insightsFI_Flow, insightsFI_AvgTicket,11,\"Fixed Income Funds Results\")"
   ]
  },
  {
   "cell_type": "markdown",
   "metadata": {},
   "source": [
    "#### Private Bond Funds"
   ]
  },
  {
   "cell_type": "code",
   "execution_count": 94,
   "metadata": {},
   "outputs": [],
   "source": [
    "privateBondHistoricSeries = historicSeries[historicSeries[\"CNPJ_FUNDO\"].isin(privateBondsFundFilterLayer[\"CNPJ\"])]\n",
    "privateBondHistoricSeries = privateBondHistoricSeries.rename(columns={'CNPJ_FUNDO':'CNPJ',\"DT_COMPTC\":\"DATE\"})\n",
    "\n",
    "\n",
    "results = run_standard_analysis(historicSeries,privateBondsFundFilterLayer)\n",
    "insightsPrivateBonds = results[0]\n",
    "insightsPB_SELIC = results[1]\n",
    "insightsPB_Flow = results[2]\n",
    "insightsPB_AvgTicket = results[3]\n",
    "insightsPB_Dump = results[4]\n",
    "\n",
    "plot_graphs(insightsPrivateBonds, insightsPB_SELIC, insightsPB_Flow, insightsPB_AvgTicket,11,\"Private Bond Funds Results 2017-2020\")"
   ]
  },
  {
   "cell_type": "markdown",
   "metadata": {},
   "source": [
    "### Yearly analysis"
   ]
  },
  {
   "cell_type": "code",
   "execution_count": null,
   "metadata": {},
   "outputs": [],
   "source": []
  },
  {
   "cell_type": "code",
   "execution_count": 109,
   "metadata": {},
   "outputs": [
    {
     "data": {
      "text/html": [
       "<div>\n",
       "<style scoped>\n",
       "    .dataframe tbody tr th:only-of-type {\n",
       "        vertical-align: middle;\n",
       "    }\n",
       "\n",
       "    .dataframe tbody tr th {\n",
       "        vertical-align: top;\n",
       "    }\n",
       "\n",
       "    .dataframe thead th {\n",
       "        text-align: right;\n",
       "    }\n",
       "</style>\n",
       "<table border=\"1\" class=\"dataframe\">\n",
       "  <thead>\n",
       "    <tr style=\"text-align: right;\">\n",
       "      <th></th>\n",
       "      <th>CNPJ_FUNDO</th>\n",
       "      <th>DT_COMPTC</th>\n",
       "      <th>VL_TOTAL</th>\n",
       "      <th>VL_QUOTA</th>\n",
       "      <th>VL_PATRIM_LIQ</th>\n",
       "      <th>CAPTC_DIA</th>\n",
       "      <th>RESG_DIA</th>\n",
       "      <th>NR_COTST</th>\n",
       "      <th>CAP_LIQ</th>\n",
       "      <th>TKT_MED</th>\n",
       "    </tr>\n",
       "  </thead>\n",
       "  <tbody>\n",
       "    <tr>\n",
       "      <th>0</th>\n",
       "      <td>00.017.024/0001-53</td>\n",
       "      <td>2018-01-02</td>\n",
       "      <td>1130197.89</td>\n",
       "      <td>25.968274</td>\n",
       "      <td>1130221.60</td>\n",
       "      <td>0.0</td>\n",
       "      <td>0.0</td>\n",
       "      <td>1</td>\n",
       "      <td>0.0</td>\n",
       "      <td>1130221.60</td>\n",
       "    </tr>\n",
       "    <tr>\n",
       "      <th>1</th>\n",
       "      <td>00.017.024/0001-53</td>\n",
       "      <td>2018-01-03</td>\n",
       "      <td>1130497.24</td>\n",
       "      <td>25.972772</td>\n",
       "      <td>1130417.38</td>\n",
       "      <td>0.0</td>\n",
       "      <td>0.0</td>\n",
       "      <td>1</td>\n",
       "      <td>0.0</td>\n",
       "      <td>1130417.38</td>\n",
       "    </tr>\n",
       "    <tr>\n",
       "      <th>2</th>\n",
       "      <td>00.017.024/0001-53</td>\n",
       "      <td>2018-01-04</td>\n",
       "      <td>1130796.56</td>\n",
       "      <td>25.977238</td>\n",
       "      <td>1130611.74</td>\n",
       "      <td>0.0</td>\n",
       "      <td>0.0</td>\n",
       "      <td>1</td>\n",
       "      <td>0.0</td>\n",
       "      <td>1130611.74</td>\n",
       "    </tr>\n",
       "    <tr>\n",
       "      <th>3</th>\n",
       "      <td>00.017.024/0001-53</td>\n",
       "      <td>2018-01-05</td>\n",
       "      <td>1131096.62</td>\n",
       "      <td>25.981703</td>\n",
       "      <td>1130806.07</td>\n",
       "      <td>0.0</td>\n",
       "      <td>0.0</td>\n",
       "      <td>1</td>\n",
       "      <td>0.0</td>\n",
       "      <td>1130806.07</td>\n",
       "    </tr>\n",
       "    <tr>\n",
       "      <th>4</th>\n",
       "      <td>00.017.024/0001-53</td>\n",
       "      <td>2018-01-08</td>\n",
       "      <td>1131087.37</td>\n",
       "      <td>25.986184</td>\n",
       "      <td>1131001.11</td>\n",
       "      <td>0.0</td>\n",
       "      <td>0.0</td>\n",
       "      <td>1</td>\n",
       "      <td>0.0</td>\n",
       "      <td>1131001.11</td>\n",
       "    </tr>\n",
       "  </tbody>\n",
       "</table>\n",
       "</div>"
      ],
      "text/plain": [
       "           CNPJ_FUNDO   DT_COMPTC    VL_TOTAL   VL_QUOTA  VL_PATRIM_LIQ  \\\n",
       "0  00.017.024/0001-53  2018-01-02  1130197.89  25.968274     1130221.60   \n",
       "1  00.017.024/0001-53  2018-01-03  1130497.24  25.972772     1130417.38   \n",
       "2  00.017.024/0001-53  2018-01-04  1130796.56  25.977238     1130611.74   \n",
       "3  00.017.024/0001-53  2018-01-05  1131096.62  25.981703     1130806.07   \n",
       "4  00.017.024/0001-53  2018-01-08  1131087.37  25.986184     1131001.11   \n",
       "\n",
       "   CAPTC_DIA  RESG_DIA  NR_COTST  CAP_LIQ     TKT_MED  \n",
       "0        0.0       0.0         1      0.0  1130221.60  \n",
       "1        0.0       0.0         1      0.0  1130417.38  \n",
       "2        0.0       0.0         1      0.0  1130611.74  \n",
       "3        0.0       0.0         1      0.0  1130806.07  \n",
       "4        0.0       0.0         1      0.0  1131001.11  "
      ]
     },
     "execution_count": 109,
     "metadata": {},
     "output_type": "execute_result"
    }
   ],
   "source": [
    "historicSeries.head()"
   ]
  },
  {
   "cell_type": "code",
   "execution_count": null,
   "metadata": {},
   "outputs": [],
   "source": []
  },
  {
   "cell_type": "code",
   "execution_count": null,
   "metadata": {},
   "outputs": [],
   "source": []
  },
  {
   "cell_type": "code",
   "execution_count": null,
   "metadata": {},
   "outputs": [],
   "source": []
  },
  {
   "cell_type": "code",
   "execution_count": 96,
   "metadata": {},
   "outputs": [],
   "source": [
    "#unload\n",
    "\n",
    "insightsIhfa_Dump.to_csv(\"ihfa_dump.csv\")\n",
    "insightsFI_Dump.to_csv(\"fixedIncome_dump.csv\")\n",
    "insightsInterbankRate_Dump.to_csv(\"interbankRate_dump.csv\")\n",
    "insightsPB_Dump.to_csv(\"privateBond_dump.csv\")"
   ]
  },
  {
   "cell_type": "code",
   "execution_count": null,
   "metadata": {},
   "outputs": [],
   "source": []
  }
 ],
 "metadata": {
  "kernelspec": {
   "display_name": "Python 3",
   "language": "python",
   "name": "python3"
  },
  "language_info": {
   "codemirror_mode": {
    "name": "ipython",
    "version": 3
   },
   "file_extension": ".py",
   "mimetype": "text/x-python",
   "name": "python",
   "nbconvert_exporter": "python",
   "pygments_lexer": "ipython3",
   "version": "3.8.5"
  }
 },
 "nbformat": 4,
 "nbformat_minor": 4
}
