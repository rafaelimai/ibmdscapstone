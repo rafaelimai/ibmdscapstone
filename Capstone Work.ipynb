{
 "cells": [
  {
   "cell_type": "markdown",
   "metadata": {},
   "source": [
    "# Capstone Project for the Data Science Specialization"
   ]
  },
  {
   "cell_type": "markdown",
   "metadata": {},
   "source": [
    "### Rafael Y. Imai - April 2021"
   ]
  },
  {
   "cell_type": "code",
   "execution_count": 164,
   "metadata": {},
   "outputs": [],
   "source": [
    "import pandas as pd\n",
    "import numpy as np\n",
    "import matplotlib.pyplot as plt\n",
    "import yfinance as yf\n"
   ]
  },
  {
   "cell_type": "markdown",
   "metadata": {},
   "source": [
    "Firstly, let's load the datasets with the investment funds CNPJ (similar to a company ID in Brazil, can be used to identify uniquely a given investment fund),the share value at a given date, along with the volume of subscriptions and redemptions in Brazilian Reais:"
   ]
  },
  {
   "cell_type": "code",
   "execution_count": 165,
   "metadata": {},
   "outputs": [
    {
     "name": "stdout",
     "output_type": "stream",
     "text": [
      "2017 inserted.\n",
      "2018 inserted.\n",
      "2019 inserted.\n",
      "2020 inserted.\n"
     ]
    }
   ],
   "source": [
    "historicSeries = pd.DataFrame()\n",
    "for year in range(2017,2021):\n",
    "    for month in range(1,13):\n",
    "        file = \"CVMData/inf_diario_fi_{0}{1}.csv\".format(year,str(month).zfill(2))\n",
    "        historicSeries = historicSeries.append(pd.read_csv(file, sep = \";\"))\n",
    "    print(\"{} inserted.\".format(year))\n",
    "\n",
    "historicSeries=historicSeries[[\"CNPJ_FUNDO\",\"DT_COMPTC\",\"VL_TOTAL\",\"VL_QUOTA\",\"VL_PATRIM_LIQ\",\"CAPTC_DIA\",\"RESG_DIA\",\"NR_COTST\"]]\n"
   ]
  },
  {
   "cell_type": "markdown",
   "metadata": {},
   "source": [
    "Also, let's load a dataset with all of the investment funds that have existed since the early 90's in Brazil. This file was also obtained from CVM."
   ]
  },
  {
   "cell_type": "code",
   "execution_count": 166,
   "metadata": {},
   "outputs": [],
   "source": [
    "fundList = pd.read_excel(\"cad_fi.xlsx\")"
   ]
  },
  {
   "cell_type": "markdown",
   "metadata": {},
   "source": [
    "#### Another dataset that we will use is the historic series of the IBOVESPA index, the stock market index for the São Paulo Stock Exchange."
   ]
  },
  {
   "cell_type": "code",
   "execution_count": 167,
   "metadata": {},
   "outputs": [],
   "source": [
    "ibov = yf.Ticker('^BVSP')\n",
    "ibovHistoric = ibov.history(start=\"2016-12-31\",end=\"2021-1-1\")\n",
    "ibovHistoricClose = ibovHistoric[[\"Close\"]] \n",
    "ibovHistoricClose = ibovHistoricClose.rename(columns={'Date':'DATE',\"Close\":\"CLOSE\"}) "
   ]
  },
  {
   "cell_type": "markdown",
   "metadata": {},
   "source": [
    "#### Random stuff about the SELIC rate"
   ]
  },
  {
   "cell_type": "code",
   "execution_count": 168,
   "metadata": {},
   "outputs": [],
   "source": [
    "selicData = pd.read_json(\"http://api.bcb.gov.br/dados/serie/bcdata.sgs.4189/dados?formato=json&dataInicial=01/01/2017&dataFinal=31/12/2020\")\n",
    "selicData.head()\n",
    "selicData[\"data\"]=pd.to_datetime(selicData.data)\n",
    "selicData = selicData.set_index(\"data\")\n",
    " "
   ]
  },
  {
   "cell_type": "code",
   "execution_count": 169,
   "metadata": {},
   "outputs": [],
   "source": [
    "historicSeries['CAP_LIQ']=historicSeries['CAPTC_DIA']-historicSeries['RESG_DIA']\n",
    "historicSeries['TKT_MED']=historicSeries['VL_PATRIM_LIQ']/historicSeries['NR_COTST']\n"
   ]
  },
  {
   "cell_type": "markdown",
   "metadata": {},
   "source": [
    "Some peculiarities of the Brazilian investment fund market must be observed. Among the funds present on the first selection, there might be exclusive funds (funds with a single shareholder or a select set of shareholders, that may apply in illiquid assets and not be subjected to frequent subscriptions and redemptions). As one of the main objects of this work is to assess whether macroeconomic variables have a significant impact on the volume of subscriptions and redemptions, it is interesting to filter out funds that are not subject to a regular volume of subscriptions and redemptions.\n",
    "\n",
    "In this case, I will use the portfolio of IHFA, a market index provided by ANBIMA, an association whose members are companies involved with the financial sector in Brazil. IHFA stands for *Índice de Hedge Funds ANBIMA*, ANBIMA Hedge Funds Index in a literal translation. The portfolio selection criteria involve, among other rules, a minimum of ten shareholders and the exclusion of such exclusive funds.\n",
    "\n",
    "More info can be found (in portuguese) at this link: https://www.anbima.com.br/pt_br/informar/precos-e-indices/indices/ihfa.htm.\n",
    "\n",
    "The portfolio of the last quarter of 2020 will be used to assemble a list of funds, as it corresponds roughly to the end of the selected period. I had to post-process the portfolio file manually, as only a general report including some statistics about the index and the portfolio composition is published. The original file can be found here https://www.anbima.com.br/data/files/04/35/26/3E/E9E057106A070057882BA2A8/IHFA%20-%204T20.xlsx, but I will use a manually assembled Excel spreadsheet to store the CNPJ and the hedge fund names."
   ]
  },
  {
   "cell_type": "code",
   "execution_count": 170,
   "metadata": {},
   "outputs": [
    {
     "data": {
      "text/plain": [
       "(244, 2)"
      ]
     },
     "execution_count": 170,
     "metadata": {},
     "output_type": "execute_result"
    }
   ],
   "source": [
    "ihfaFirstQuarter20 = pd.read_excel(\"ANBIMAData/1Q2020-IHFA.xlsx\")\n",
    "ihfaFirstQuarter20.shape"
   ]
  },
  {
   "cell_type": "markdown",
   "metadata": {},
   "source": [
    "On the scope of this study, only common Investment Funds (\"FI\") will be considered. Every form of Investment Fund in Brazil is regulated by CVM, so funds that have a specific purpose (e.g., FUNCINE funds, special investment funds whose objective is to support the movie industry) and certain funds that are closed-end funds (such as FII - Fundos de Investimento Imobiliário or Real Estate Investment Funds, similar to REITs) will be discarded.\n",
    "\n",
    "\n",
    "\n",
    "Also, in order to provide a consistent first sample, only funds that happened to exist between December 31, 2016 and today or existed in January 1, 2017 and were closed in 2021 were considered."
   ]
  },
  {
   "cell_type": "code",
   "execution_count": 171,
   "metadata": {},
   "outputs": [],
   "source": [
    "firstFundFilterLayer = fundList[((fundList[\"TP_FUNDO\"]==\"FI\")\n",
    "                                 &(((fundList[\"DT_REG\"]<\"2016-12-31\")&(fundList[\"DT_CANCEL\"]>\"2020-12-31\"))\n",
    "                                   |((fundList[\"DT_REG\"]<\"2016-12-31\")&(fundList[\"SIT\"]==\"EM FUNCIONAMENTO NORMAL\"))))]"
   ]
  },
  {
   "cell_type": "markdown",
   "metadata": {},
   "source": [
    "Afterwards, funds that use a master-feeder structure (a feeder fund that receive subscriptions and subscribes to a master fund, the fund that actually purchase securities and stock) will be filtered, considering only feeders (in portuguese, Fundos de Investimento em Cotas de Fundos de Investimentos)."
   ]
  },
  {
   "cell_type": "code",
   "execution_count": 172,
   "metadata": {},
   "outputs": [],
   "source": [
    "secondFundFilterLayer = firstFundFilterLayer[firstFundFilterLayer[\"DENOM_SOCIAL\"].str.contains(\"COTA\")]"
   ]
  },
  {
   "cell_type": "markdown",
   "metadata": {},
   "source": [
    "Based on the set of funds above, we can then pick specific types of funds based on their names?"
   ]
  },
  {
   "cell_type": "code",
   "execution_count": 173,
   "metadata": {},
   "outputs": [],
   "source": [
    "fixedIncomeFundFilterLayer = secondFundFilterLayer[secondFundFilterLayer[\"DENOM_SOCIAL\"].str.contains(\"RENDA FIXA\")]\n",
    "#fixedIncomeFundFilterLayer[['CNPJ_FUNDO','DENOM_SOCIAL']]\n",
    "\n",
    "\n",
    "interbankRateFundFilterLayer = secondFundFilterLayer[secondFundFilterLayer[\"DENOM_SOCIAL\"].str.contains(\"REFERENCIADO DI\")]\n",
    "#interbankRateFundFilterLayer[['CNPJ_FUNDO','DENOM_SOCIAL']]"
   ]
  },
  {
   "cell_type": "markdown",
   "metadata": {},
   "source": [
    "### IHFA"
   ]
  },
  {
   "cell_type": "code",
   "execution_count": null,
   "metadata": {},
   "outputs": [],
   "source": []
  },
  {
   "cell_type": "code",
   "execution_count": 174,
   "metadata": {},
   "outputs": [],
   "source": [
    "ihfaHistoricSeries = historicSeries[historicSeries[\"CNPJ_FUNDO\"].isin(ihfaFirstQuarter20[\"CNPJ\"])]\n",
    "ihfaHistoricSeries = ihfaHistoricSeries.rename(columns={'CNPJ_FUNDO':'CNPJ',\"DT_COMPTC\":\"DATE\"})\n",
    "\n",
    "\n",
    "insightsIhfa = pd.DataFrame()\n",
    "insightsIhfa_SELIC = pd.DataFrame()\n",
    "insightsIhfa_Flow = pd.DataFrame()\n",
    "insightsIhfa_AvgTicket = pd.DataFrame()\n",
    "insightsIhfa_Dump = pd.DataFrame(columns=['CNPJ','IbovCorrelation','SELICCorrelation','flowCorrelation','avgTicketCorrelation','vol'])\n",
    "\n",
    "\n",
    "for cnpj in ihfaFirstQuarter20['CNPJ']:\n",
    "    historicFundTemp = ihfaHistoricSeries[ihfaHistoricSeries['CNPJ']==cnpj]    \n",
    "    historicFundTemp.set_index(\"DATE\", inplace = True) \n",
    "    historicFundTemp = historicFundTemp.join(ibovHistoricClose)    \n",
    "    historicFundTemp = historicFundTemp.dropna()\n",
    "    historicFundTemp = historicFundTemp.join(selicData)\n",
    "    \n",
    "    stockCorrelation = [[cnpj,historicFundTemp[[\"NR_COTST\",\"CLOSE\"]].corr().iloc[1,0]]]\n",
    "    SELICCorrelation = [[cnpj,historicFundTemp[[\"NR_COTST\",\"valor\"]].corr().iloc[1,0]]]\n",
    "    flowCorrelation = [[cnpj,historicFundTemp[[\"NR_COTST\",\"CAP_LIQ\"]].corr().iloc[1,0]]]\n",
    "    avgTicketCorrelation = [[cnpj,historicFundTemp[[\"NR_COTST\",\"TKT_MED\"]].corr().iloc[1,0]]]   \n",
    "    vol = [[cnpj,historicFundTemp[\"VL_QUOTA\"].std()/historicFundTemp[\"VL_QUOTA\"].mean()]]\n",
    "    \n",
    "    \n",
    "    insightsIhfa = insightsIhfa.append(stockCorrelation)   \n",
    "    insightsIhfa_SELIC = insightsIhfa_SELIC.append(SELICCorrelation) \n",
    "    insightsIhfa_Flow = insightsIhfa_Flow.append(flowCorrelation) \n",
    "    insightsIhfa_AvgTicket = insightsIhfa_AvgTicket.append(avgTicketCorrelation) \n",
    "    insightsIhfa_Dump=insightsIhfa_Dump.append({'CNPJ':cnpj,'IbovCorrelation':stockCorrelation[0][1],'SELICCorrelation':SELICCorrelation[0][1],'flowCorrelation':flowCorrelation[0][1],'avgTicketCorrelation':avgTicketCorrelation[0][1],'vol':vol[0][1]},ignore_index=True)"
   ]
  },
  {
   "cell_type": "code",
   "execution_count": 175,
   "metadata": {},
   "outputs": [],
   "source": [
    "insightsInterbankRate = pd.DataFrame()\n",
    "insightsInterbankRate_SELIC = pd.DataFrame()\n",
    "insightsInterbankRate_Flow = pd.DataFrame()\n",
    "insightsInterbankRate_AvgTicket = pd.DataFrame()\n",
    "insightsInterbankRate_Dump = pd.DataFrame(columns=['CNPJ','IbovCorrelation','SELICCorrelation','flowCorrelation','avgTicketCorrelation','vol'])\n",
    "\n",
    "interbankHistoricSeries=historicSeries[historicSeries[\"CNPJ_FUNDO\"].isin(fixedIncomeFundFilterLayer[\"CNPJ_FUNDO\"])]\n",
    "interbankHistoricSeries=interbankHistoricSeries.rename(columns={'CNPJ_FUNDO':'CNPJ',\"DT_COMPTC\":\"DATE\"})\n",
    "\n",
    "for cnpj in interbankRateFundFilterLayer['CNPJ_FUNDO']:\n",
    "    historicFundTemp = interbankHistoricSeries[interbankHistoricSeries['CNPJ']==cnpj]    \n",
    "    historicFundTemp.set_index(\"DATE\", inplace = True)  \n",
    "    historicFundTemp = historicFundTemp.join(ibovHistoricClose)    \n",
    "    historicFundTemp = historicFundTemp.dropna()\n",
    "    historicFundTemp = historicFundTemp.join(selicData) \n",
    "    \n",
    "    \n",
    "    stockCorrelation = [[cnpj,historicFundTemp[[\"NR_COTST\",\"CLOSE\"]].corr().iloc[1,0]]]\n",
    "    SELICCorrelation = [[cnpj,historicFundTemp[[\"NR_COTST\",\"valor\"]].corr().iloc[1,0]]]\n",
    "    flowCorrelation = [[cnpj,historicFundTemp[[\"NR_COTST\",\"CAP_LIQ\"]].corr().iloc[1,0]]]\n",
    "    avgTicketCorrelation = [[cnpj,historicFundTemp[[\"NR_COTST\",\"TKT_MED\"]].corr().iloc[1,0]]]   \n",
    "    vol = [[cnpj,historicFundTemp[\"VL_QUOTA\"].std()/historicFundTemp[\"VL_QUOTA\"].mean()]]\n",
    "    \n",
    "    insightsInterbankRate = insightsInterbankRate.append(stockCorrelation)   \n",
    "    insightsInterbankRate_SELIC = insightsInterbankRate_SELIC.append(SELICCorrelation) \n",
    "    insightsInterbankRate_Flow = insightsInterbankRate_Flow.append(flowCorrelation) \n",
    "    insightsInterbankRate_AvgTicket = insightsInterbankRate_AvgTicket.append(avgTicketCorrelation) \n",
    "    \n",
    "    insightsInterbankRate_Dump=insightsInterbankRate_Dump.append({'CNPJ':cnpj,'IbovCorrelation':stockCorrelation[0][1],'SELICCorrelation':SELICCorrelation[0][1],'flowCorrelation':flowCorrelation[0][1],'avgTicketCorrelation':avgTicketCorrelation[0][1],'vol':vol[0][1]},ignore_index=True)"
   ]
  },
  {
   "cell_type": "code",
   "execution_count": 176,
   "metadata": {},
   "outputs": [],
   "source": [
    "insightsFixedIncome = pd.DataFrame()\n",
    "insightsFI_SELIC = pd.DataFrame()\n",
    "insightsFI_Flow = pd.DataFrame()\n",
    "insightsFI_AvgTicket = pd.DataFrame()\n",
    "insightsFI_Dump = pd.DataFrame(columns=['CNPJ','IbovCorrelation','SELICCorrelation','flowCorrelation','avgTicketCorrelation','vol'])\n",
    "\n",
    "fixedIncomeHistoricSeries=historicSeries[historicSeries[\"CNPJ_FUNDO\"].isin(interbankRateFundFilterLayer[\"CNPJ_FUNDO\"])]\n",
    "fixedIncomeHistoricSeries=fixedIncomeHistoricSeries.rename(columns={'CNPJ_FUNDO':'CNPJ',\"DT_COMPTC\":\"DATE\"})\n",
    "\n",
    "for cnpj in interbankRateFundFilterLayer['CNPJ_FUNDO']:\n",
    "    historicFundTemp = fixedIncomeHistoricSeries[fixedIncomeHistoricSeries['CNPJ']==cnpj]    \n",
    "    historicFundTemp.set_index(\"DATE\", inplace = True)  \n",
    "    historicFundTemp = historicFundTemp.join(ibovHistoricClose)    \n",
    "    historicFundTemp = historicFundTemp.dropna()\n",
    "    historicFundTemp = historicFundTemp.join(selicData)\n",
    "    \n",
    "    \n",
    "    \n",
    "    stockCorrelation = [[cnpj,historicFundTemp[[\"NR_COTST\",\"CLOSE\"]].corr().iloc[1,0]]]\n",
    "    SELICCorrelation = [[cnpj,historicFundTemp[[\"NR_COTST\",\"valor\"]].corr().iloc[1,0]]]\n",
    "    flowCorrelation = [[cnpj,historicFundTemp[[\"NR_COTST\",\"CAP_LIQ\"]].corr().iloc[1,0]]]\n",
    "    avgTicketCorrelation = [[cnpj,historicFundTemp[[\"NR_COTST\",\"TKT_MED\"]].corr().iloc[1,0]]]   \n",
    "    vol = [[cnpj,historicFundTemp[\"VL_QUOTA\"].std()/historicFundTemp[\"VL_QUOTA\"].mean()]]\n",
    "    \n",
    "    insightsFixedIncome = insightsFixedIncome.append(stockCorrelation)   \n",
    "    insightsFI_SELIC = insightsFI_SELIC.append(SELICCorrelation) \n",
    "    insightsFI_Flow = insightsFI_Flow.append(flowCorrelation) \n",
    "    insightsFI_AvgTicket = insightsFI_AvgTicket.append(avgTicketCorrelation) \n",
    "    \n",
    "    insightsFI_Dump=insightsFI_Dump.append({'CNPJ':cnpj,'IbovCorrelation':stockCorrelation[0][1],'SELICCorrelation':SELICCorrelation[0][1],'flowCorrelation':flowCorrelation[0][1],'avgTicketCorrelation':avgTicketCorrelation[0][1],'vol':vol[0][1]},ignore_index=True)"
   ]
  },
  {
   "cell_type": "code",
   "execution_count": 177,
   "metadata": {},
   "outputs": [
    {
     "data": {
      "image/png": "[encoded data removed]",
      "text/plain": [
       "<Figure size 792x288 with 4 Axes>"
      ]
     },
     "metadata": {
      "needs_background": "light"
     },
     "output_type": "display_data"
    }
   ],
   "source": [
    "fig, axs = plt.subplots(1, 4, sharex=False, sharey=False)\n",
    "fig.set_size_inches(11,4)\n",
    "plt.suptitle(\"IHFA Funds Results\")\n",
    "\n",
    "axs[0].hist(insightsIhfa[[1]], bins=11)\n",
    "axs[0].set_title(\"shareholders vs stock market index\")\n",
    "axs[0].set_xlabel(\"Correlations\")\n",
    "axs[0].set_ylabel(\"# Funds\")  \n",
    "\n",
    "\n",
    "axs[1].hist(insightsIhfa_SELIC[[1]], bins=11)\n",
    "axs[1].set_title(\"shareholders vs SELIC rates\")\n",
    "axs[1].set_xlabel(\"Correlations\")\n",
    "axs[1].set_ylabel(\"# Funds\")  \n",
    "\n",
    "axs[2].hist(insightsIhfa_Flow[[1]], bins=11)\n",
    "axs[2].set_title(\"shareholders vs capital flow\")\n",
    "axs[2].set_xlabel(\"Correlations\")\n",
    "axs[2].set_ylabel(\"# Funds\")  \n",
    " \n",
    "axs[3].hist(insightsIhfa_AvgTicket[[1]], bins=11)\n",
    "axs[3].set_title(\"shareholders vs avg ticket\")\n",
    "axs[3].set_xlabel(\"Correlations\")\n",
    "axs[3].set_ylabel(\"# Funds\")      \n",
    "    \n",
    "plt.tight_layout()\n",
    "plt.show()"
   ]
  },
  {
   "cell_type": "code",
   "execution_count": 178,
   "metadata": {},
   "outputs": [
    {
     "data": {
      "image/png": "[encoded data removed]",
      "text/plain": [
       "<Figure size 792x288 with 4 Axes>"
      ]
     },
     "metadata": {
      "needs_background": "light"
     },
     "output_type": "display_data"
    }
   ],
   "source": [
    "fig, axs = plt.subplots(1, 4, sharex=False, sharey=False)\n",
    "\n",
    "plt.suptitle(\"Fixed Income Funds Results\")\n",
    "fig.set_size_inches(11,4)\n",
    "\n",
    "axs[0].hist(insightsFixedIncome[[1]], bins=11)\n",
    "axs[0].set_title(\"shareholders vs stock market index\")\n",
    "axs[0].set_xlabel(\"Correlations\")\n",
    "axs[0].set_ylabel(\"# Funds\")  \n",
    "\n",
    "axs[1].hist(insightsFI_SELIC[[1]], bins=11)\n",
    "axs[1].set_title(\"shareholders vs SELIC rate\")\n",
    "axs[1].set_xlabel(\"Correlations\")\n",
    "axs[1].set_ylabel(\"# Funds\")  \n",
    "\n",
    "\n",
    "axs[2].hist(insightsFI_Flow[[1]], bins=11)\n",
    "axs[2].set_title(\"capital flow vs shareholders\")\n",
    "axs[2].set_xlabel(\"Correlations\")\n",
    "axs[2].set_ylabel(\"# Funds\")  \n",
    "\n",
    "\n",
    "axs[3].hist(insightsFI_AvgTicket[[1]], bins=11)\n",
    "axs[3].set_title(\"avg. ticket vs shareholders\")\n",
    "axs[3].set_xlabel(\"Correlations\")\n",
    "axs[3].set_ylabel(\"# Funds\")  \n",
    "\n",
    "\n",
    "plt.tight_layout()\n",
    "plt.show()"
   ]
  },
  {
   "cell_type": "code",
   "execution_count": 179,
   "metadata": {},
   "outputs": [
    {
     "data": {
      "image/png": "[encoded data removed]",
      "text/plain": [
       "<Figure size 792x288 with 4 Axes>"
      ]
     },
     "metadata": {
      "needs_background": "light"
     },
     "output_type": "display_data"
    }
   ],
   "source": [
    "fig, axs = plt.subplots(1, 4, sharex=False, sharey=False)\n",
    "fig.set_size_inches(11,4)\n",
    "plt.suptitle(\"Interbank Rate Funds Results\")\n",
    "\n",
    "axs[0].hist(insightsInterbankRate[[1]], bins=11)\n",
    "axs[0].set_title(\"shareholders vs stock market index\")\n",
    "axs[0].set_xlabel(\"Correlations\")\n",
    "axs[0].set_ylabel(\"# Funds\")  \n",
    "\n",
    "\n",
    "axs[1].hist(insightsInterbankRate_SELIC[[1]], bins=11)\n",
    "axs[1].set_title(\"shareholders vs SELIC rates\")\n",
    "axs[1].set_xlabel(\"Correlations\")\n",
    "axs[1].set_ylabel(\"# Funds\")  \n",
    "\n",
    "axs[2].hist(insightsInterbankRate_Flow[[1]], bins=11)\n",
    "axs[2].set_title(\"shareholders vs capital flow\")\n",
    "axs[2].set_xlabel(\"Correlations\")\n",
    "axs[2].set_ylabel(\"# Funds\")  \n",
    " \n",
    "axs[3].hist(insightsInterbankRate_AvgTicket[[1]], bins=11)\n",
    "axs[3].set_title(\"shareholders vs avg ticket\")\n",
    "axs[3].set_xlabel(\"Correlations\")\n",
    "axs[3].set_ylabel(\"# Funds\")      \n",
    "    \n",
    "plt.tight_layout()\n",
    "plt.show()"
   ]
  },
  {
   "cell_type": "code",
   "execution_count": 180,
   "metadata": {},
   "outputs": [],
   "source": [
    "#unload\n",
    "\n",
    "insightsIhfa_Dump.to_csv(\"ihfa_dump.csv\")\n",
    "insightsFI_Dump.to_csv(\"fixedIncome_dump.csv\")\n",
    "insightsInterbankRate_Dump.to_csv(\"interbankRate_dump.csv\")"
   ]
  },
  {
   "cell_type": "code",
   "execution_count": 181,
   "metadata": {},
   "outputs": [
    {
     "data": {
      "text/plain": [
       "5370    00.756.851/0001-69\n",
       "5428    00.822.933/0001-64\n",
       "5440    00.824.198/0001-28\n",
       "5448    00.826.386/0001-95\n",
       "5460    00.826.907/0001-04\n",
       "Name: CNPJ_FUNDO, dtype: object"
      ]
     },
     "execution_count": 181,
     "metadata": {},
     "output_type": "execute_result"
    }
   ],
   "source": [
    "interbankRateFundFilterLayer['CNPJ_FUNDO'].head()\n",
    "    \n",
    "    "
   ]
  },
  {
   "cell_type": "code",
   "execution_count": 182,
   "metadata": {},
   "outputs": [],
   "source": [
    "\n",
    "historicFundTemp = fixedIncomeHistoricSeries[fixedIncomeHistoricSeries['CNPJ']==\"00.756.851/0001-69\"]    \n",
    "historicFundTemp.set_index(\"DATE\", inplace = True)  \n",
    "historicFundTemp = historicFundTemp.join(ibovHistoricClose)    \n",
    "historicFundTemp = historicFundTemp.dropna()\n",
    "historicFundTemp = historicFundTemp.join(selicData)\n",
    "\n",
    "\n",
    "\n",
    "stockCorrelation = [[cnpj,historicFundTemp[[\"NR_COTST\",\"CLOSE\"]].corr().iloc[1,0]]]\n",
    "SELICCorrelation = [[cnpj,historicFundTemp[[\"NR_COTST\",\"valor\"]].corr().iloc[1,0]]]\n",
    "flowCorrelation = [[cnpj,historicFundTemp[[\"NR_COTST\",\"CAP_LIQ\"]].corr().iloc[1,0]]]\n",
    "avgTicketCorrelation = [[cnpj,historicFundTemp[[\"NR_COTST\",\"TKT_MED\"]].corr().iloc[1,0]]]   \n",
    "vol = [[cnpj,historicFundTemp[\"VL_QUOTA\"].std()/historicFundTemp[\"VL_QUOTA\"].mean()]]\n",
    "\n",
    "insightsFixedIncome = insightsFixedIncome.append(stockCorrelation)   \n",
    "insightsFI_SELIC = insightsFI_SELIC.append(SELICCorrelation) \n",
    "insightsFI_Flow = insightsFI_Flow.append(flowCorrelation) \n",
    "insightsFI_AvgTicket = insightsFI_AvgTicket.append(avgTicketCorrelation) \n",
    "\n",
    "insightsFI_Dump=insightsFI_Dump.append({'CNPJ':cnpj,'IbovCorrelation':stockCorrelation[0][1],'SELICCorrelation':SELICCorrelation[0][1],'flowCorrelation':flowCorrelation[0][1],'avgTicketCorrelation':avgTicketCorrelation[0][1],'vol':vol[0][1]},ignore_index=True)"
   ]
  },
  {
   "cell_type": "code",
   "execution_count": 183,
   "metadata": {},
   "outputs": [
    {
     "data": {
      "text/plain": [
       "-0.24927119310101992"
      ]
     },
     "execution_count": 183,
     "metadata": {},
     "output_type": "execute_result"
    }
   ],
   "source": []
  },
  {
   "cell_type": "code",
   "execution_count": null,
   "metadata": {},
   "outputs": [],
   "source": []
  }
 ],
 "metadata": {
  "kernelspec": {
   "display_name": "Python 3",
   "language": "python",
   "name": "python3"
  },
  "language_info": {
   "codemirror_mode": {
    "name": "ipython",
    "version": 3
   },
   "file_extension": ".py",
   "mimetype": "text/x-python",
   "name": "python",
   "nbconvert_exporter": "python",
   "pygments_lexer": "ipython3",
   "version": "3.8.5"
  }
 },
 "nbformat": 4,
 "nbformat_minor": 4
}
