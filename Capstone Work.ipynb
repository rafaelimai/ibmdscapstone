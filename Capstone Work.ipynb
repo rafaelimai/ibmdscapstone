{
 "cells": [
  {
   "cell_type": "markdown",
   "metadata": {},
   "source": [
    "# Capstone Project for the Data Science Specialization"
   ]
  },
  {
   "cell_type": "markdown",
   "metadata": {},
   "source": [
    "### Rafael Y. Imai - April 2021"
   ]
  },
  {
   "cell_type": "code",
   "execution_count": 1,
   "metadata": {},
   "outputs": [],
   "source": [
    "import pandas as pd\n",
    "import numpy as np\n",
    "import matplotlib.pyplot as plt\n",
    "import yfinance as yf\n",
    "from datetime import datetime\n",
    "import parquet\n",
    "#!pip install parquet\n",
    "#!pip install fastparquet\n",
    "#!pip install pyarrow\n"
   ]
  },
  {
   "cell_type": "markdown",
   "metadata": {},
   "source": [
    "Firstly, let's load the datasets with the investment funds CNPJ (similar to a company ID in Brazil, can be used to identify uniquely a given investment fund),the share value at a given date, along with the volume of subscriptions and redemptions in Brazilian Reais:"
   ]
  },
  {
   "cell_type": "code",
   "execution_count": 2,
   "metadata": {},
   "outputs": [],
   "source": [
    "#for year in range(2017,2021):\n",
    "#    for month in range(1,13):\n",
    "#        file = \"CVMData/inf_diario_fi_{0}{1}.csv\".format(year,str(month).zfill(2))\n",
    "#        historicSeries = historicSeries.append(pd.read_csv(file, sep = \";\"))\n",
    "#    print(\"{} inserted.\".format(year))\n",
    "\n",
    "historicSeries = pd.DataFrame()\n",
    "    \n",
    "historicSeries = pd.read_parquet('historicSeries.parquet')\n",
    "historicSeries=historicSeries[[\"CNPJ_FUNDO\",\"DT_COMPTC\",\"VL_TOTAL\",\"VL_QUOTA\",\"VL_PATRIM_LIQ\",\"CAPTC_DIA\",\"RESG_DIA\",\"NR_COTST\"]]\n"
   ]
  },
  {
   "cell_type": "markdown",
   "metadata": {},
   "source": [
    "Also, let's load a dataset with all of the investment funds that have existed since the early 90's in Brazil. This file was also obtained from CVM."
   ]
  },
  {
   "cell_type": "code",
   "execution_count": 3,
   "metadata": {},
   "outputs": [],
   "source": [
    "fundList = pd.read_excel(\"cad_fi_filtered.xlsx\")  \n",
    "fundList=fundList.rename(columns={'CNPJ_FUNDO':'CNPJ'})"
   ]
  },
  {
   "cell_type": "code",
   "execution_count": 4,
   "metadata": {},
   "outputs": [
    {
     "data": {
      "text/html": [
       "<div>\n",
       "<style scoped>\n",
       "    .dataframe tbody tr th:only-of-type {\n",
       "        vertical-align: middle;\n",
       "    }\n",
       "\n",
       "    .dataframe tbody tr th {\n",
       "        vertical-align: top;\n",
       "    }\n",
       "\n",
       "    .dataframe thead th {\n",
       "        text-align: right;\n",
       "    }\n",
       "</style>\n",
       "<table border=\"1\" class=\"dataframe\">\n",
       "  <thead>\n",
       "    <tr style=\"text-align: right;\">\n",
       "      <th></th>\n",
       "      <th>VL_TOTAL</th>\n",
       "      <th>VL_QUOTA</th>\n",
       "      <th>VL_PATRIM_LIQ</th>\n",
       "      <th>CAPTC_DIA</th>\n",
       "      <th>RESG_DIA</th>\n",
       "      <th>NR_COTST</th>\n",
       "    </tr>\n",
       "  </thead>\n",
       "  <tbody>\n",
       "    <tr>\n",
       "      <th>count</th>\n",
       "      <td>1.539843e+07</td>\n",
       "      <td>1.539843e+07</td>\n",
       "      <td>1.539843e+07</td>\n",
       "      <td>1.539843e+07</td>\n",
       "      <td>1.539843e+07</td>\n",
       "      <td>1.539843e+07</td>\n",
       "    </tr>\n",
       "    <tr>\n",
       "      <th>mean</th>\n",
       "      <td>4.509613e+08</td>\n",
       "      <td>1.502239e+04</td>\n",
       "      <td>4.491871e+08</td>\n",
       "      <td>2.829099e+06</td>\n",
       "      <td>2.752343e+06</td>\n",
       "      <td>1.059561e+03</td>\n",
       "    </tr>\n",
       "    <tr>\n",
       "      <th>std</th>\n",
       "      <td>3.028144e+09</td>\n",
       "      <td>2.302718e+07</td>\n",
       "      <td>3.008135e+09</td>\n",
       "      <td>7.038041e+07</td>\n",
       "      <td>6.968411e+07</td>\n",
       "      <td>2.113526e+04</td>\n",
       "    </tr>\n",
       "    <tr>\n",
       "      <th>min</th>\n",
       "      <td>-8.804822e+08</td>\n",
       "      <td>-3.259389e+07</td>\n",
       "      <td>-8.833179e+07</td>\n",
       "      <td>0.000000e+00</td>\n",
       "      <td>0.000000e+00</td>\n",
       "      <td>0.000000e+00</td>\n",
       "    </tr>\n",
       "    <tr>\n",
       "      <th>25%</th>\n",
       "      <td>1.678671e+07</td>\n",
       "      <td>1.390819e+00</td>\n",
       "      <td>1.678042e+07</td>\n",
       "      <td>0.000000e+00</td>\n",
       "      <td>0.000000e+00</td>\n",
       "      <td>1.000000e+00</td>\n",
       "    </tr>\n",
       "    <tr>\n",
       "      <th>50%</th>\n",
       "      <td>4.723933e+07</td>\n",
       "      <td>2.874078e+00</td>\n",
       "      <td>4.717449e+07</td>\n",
       "      <td>0.000000e+00</td>\n",
       "      <td>0.000000e+00</td>\n",
       "      <td>2.000000e+00</td>\n",
       "    </tr>\n",
       "    <tr>\n",
       "      <th>75%</th>\n",
       "      <td>1.713284e+08</td>\n",
       "      <td>2.861168e+01</td>\n",
       "      <td>1.708142e+08</td>\n",
       "      <td>0.000000e+00</td>\n",
       "      <td>0.000000e+00</td>\n",
       "      <td>1.300000e+01</td>\n",
       "    </tr>\n",
       "    <tr>\n",
       "      <th>max</th>\n",
       "      <td>3.439999e+12</td>\n",
       "      <td>9.033537e+10</td>\n",
       "      <td>3.439999e+12</td>\n",
       "      <td>4.281956e+10</td>\n",
       "      <td>4.230832e+10</td>\n",
       "      <td>5.300000e+07</td>\n",
       "    </tr>\n",
       "  </tbody>\n",
       "</table>\n",
       "</div>"
      ],
      "text/plain": [
       "           VL_TOTAL      VL_QUOTA  VL_PATRIM_LIQ     CAPTC_DIA      RESG_DIA  \\\n",
       "count  1.539843e+07  1.539843e+07   1.539843e+07  1.539843e+07  1.539843e+07   \n",
       "mean   4.509613e+08  1.502239e+04   4.491871e+08  2.829099e+06  2.752343e+06   \n",
       "std    3.028144e+09  2.302718e+07   3.008135e+09  7.038041e+07  6.968411e+07   \n",
       "min   -8.804822e+08 -3.259389e+07  -8.833179e+07  0.000000e+00  0.000000e+00   \n",
       "25%    1.678671e+07  1.390819e+00   1.678042e+07  0.000000e+00  0.000000e+00   \n",
       "50%    4.723933e+07  2.874078e+00   4.717449e+07  0.000000e+00  0.000000e+00   \n",
       "75%    1.713284e+08  2.861168e+01   1.708142e+08  0.000000e+00  0.000000e+00   \n",
       "max    3.439999e+12  9.033537e+10   3.439999e+12  4.281956e+10  4.230832e+10   \n",
       "\n",
       "           NR_COTST  \n",
       "count  1.539843e+07  \n",
       "mean   1.059561e+03  \n",
       "std    2.113526e+04  \n",
       "min    0.000000e+00  \n",
       "25%    1.000000e+00  \n",
       "50%    2.000000e+00  \n",
       "75%    1.300000e+01  \n",
       "max    5.300000e+07  "
      ]
     },
     "execution_count": 4,
     "metadata": {},
     "output_type": "execute_result"
    }
   ],
   "source": [
    "historicSeries.describe()"
   ]
  },
  {
   "cell_type": "code",
   "execution_count": 5,
   "metadata": {},
   "outputs": [
    {
     "data": {
      "text/html": [
       "<div>\n",
       "<style scoped>\n",
       "    .dataframe tbody tr th:only-of-type {\n",
       "        vertical-align: middle;\n",
       "    }\n",
       "\n",
       "    .dataframe tbody tr th {\n",
       "        vertical-align: top;\n",
       "    }\n",
       "\n",
       "    .dataframe thead th {\n",
       "        text-align: right;\n",
       "    }\n",
       "</style>\n",
       "<table border=\"1\" class=\"dataframe\">\n",
       "  <thead>\n",
       "    <tr style=\"text-align: right;\">\n",
       "      <th></th>\n",
       "      <th>VL_TOTAL</th>\n",
       "      <th>VL_QUOTA</th>\n",
       "      <th>VL_PATRIM_LIQ</th>\n",
       "      <th>CAPTC_DIA</th>\n",
       "      <th>RESG_DIA</th>\n",
       "      <th>NR_COTST</th>\n",
       "    </tr>\n",
       "  </thead>\n",
       "  <tbody>\n",
       "    <tr>\n",
       "      <th>count</th>\n",
       "      <td>1.533344e+07</td>\n",
       "      <td>1.533344e+07</td>\n",
       "      <td>1.533344e+07</td>\n",
       "      <td>1.533344e+07</td>\n",
       "      <td>1.533344e+07</td>\n",
       "      <td>1.533344e+07</td>\n",
       "    </tr>\n",
       "    <tr>\n",
       "      <th>mean</th>\n",
       "      <td>4.528262e+08</td>\n",
       "      <td>8.980956e+03</td>\n",
       "      <td>4.510454e+08</td>\n",
       "      <td>2.840776e+06</td>\n",
       "      <td>2.748153e+06</td>\n",
       "      <td>1.064052e+03</td>\n",
       "    </tr>\n",
       "    <tr>\n",
       "      <th>std</th>\n",
       "      <td>3.034366e+09</td>\n",
       "      <td>5.421404e+05</td>\n",
       "      <td>3.014360e+09</td>\n",
       "      <td>7.052736e+07</td>\n",
       "      <td>6.935020e+07</td>\n",
       "      <td>2.117989e+04</td>\n",
       "    </tr>\n",
       "    <tr>\n",
       "      <th>min</th>\n",
       "      <td>-8.804822e+08</td>\n",
       "      <td>-3.259389e+07</td>\n",
       "      <td>-8.833179e+07</td>\n",
       "      <td>0.000000e+00</td>\n",
       "      <td>0.000000e+00</td>\n",
       "      <td>1.000000e+00</td>\n",
       "    </tr>\n",
       "    <tr>\n",
       "      <th>25%</th>\n",
       "      <td>1.698459e+07</td>\n",
       "      <td>1.398501e+00</td>\n",
       "      <td>1.697489e+07</td>\n",
       "      <td>0.000000e+00</td>\n",
       "      <td>0.000000e+00</td>\n",
       "      <td>1.000000e+00</td>\n",
       "    </tr>\n",
       "    <tr>\n",
       "      <th>50%</th>\n",
       "      <td>4.765799e+07</td>\n",
       "      <td>2.894943e+00</td>\n",
       "      <td>4.758310e+07</td>\n",
       "      <td>0.000000e+00</td>\n",
       "      <td>0.000000e+00</td>\n",
       "      <td>2.000000e+00</td>\n",
       "    </tr>\n",
       "    <tr>\n",
       "      <th>75%</th>\n",
       "      <td>1.725135e+08</td>\n",
       "      <td>2.892421e+01</td>\n",
       "      <td>1.719930e+08</td>\n",
       "      <td>0.000000e+00</td>\n",
       "      <td>0.000000e+00</td>\n",
       "      <td>1.300000e+01</td>\n",
       "    </tr>\n",
       "    <tr>\n",
       "      <th>max</th>\n",
       "      <td>3.439999e+12</td>\n",
       "      <td>1.130692e+08</td>\n",
       "      <td>3.439999e+12</td>\n",
       "      <td>4.281956e+10</td>\n",
       "      <td>4.230832e+10</td>\n",
       "      <td>5.300000e+07</td>\n",
       "    </tr>\n",
       "  </tbody>\n",
       "</table>\n",
       "</div>"
      ],
      "text/plain": [
       "           VL_TOTAL      VL_QUOTA  VL_PATRIM_LIQ     CAPTC_DIA      RESG_DIA  \\\n",
       "count  1.533344e+07  1.533344e+07   1.533344e+07  1.533344e+07  1.533344e+07   \n",
       "mean   4.528262e+08  8.980956e+03   4.510454e+08  2.840776e+06  2.748153e+06   \n",
       "std    3.034366e+09  5.421404e+05   3.014360e+09  7.052736e+07  6.935020e+07   \n",
       "min   -8.804822e+08 -3.259389e+07  -8.833179e+07  0.000000e+00  0.000000e+00   \n",
       "25%    1.698459e+07  1.398501e+00   1.697489e+07  0.000000e+00  0.000000e+00   \n",
       "50%    4.765799e+07  2.894943e+00   4.758310e+07  0.000000e+00  0.000000e+00   \n",
       "75%    1.725135e+08  2.892421e+01   1.719930e+08  0.000000e+00  0.000000e+00   \n",
       "max    3.439999e+12  1.130692e+08   3.439999e+12  4.281956e+10  4.230832e+10   \n",
       "\n",
       "           NR_COTST  \n",
       "count  1.533344e+07  \n",
       "mean   1.064052e+03  \n",
       "std    2.117989e+04  \n",
       "min    1.000000e+00  \n",
       "25%    1.000000e+00  \n",
       "50%    2.000000e+00  \n",
       "75%    1.300000e+01  \n",
       "max    5.300000e+07  "
      ]
     },
     "execution_count": 5,
     "metadata": {},
     "output_type": "execute_result"
    }
   ],
   "source": [
    "historicSeries = historicSeries[historicSeries[\"NR_COTST\"]>0]\n",
    "historicSeries.describe()"
   ]
  },
  {
   "cell_type": "code",
   "execution_count": 6,
   "metadata": {},
   "outputs": [
    {
     "data": {
      "text/html": [
       "<div>\n",
       "<style scoped>\n",
       "    .dataframe tbody tr th:only-of-type {\n",
       "        vertical-align: middle;\n",
       "    }\n",
       "\n",
       "    .dataframe tbody tr th {\n",
       "        vertical-align: top;\n",
       "    }\n",
       "\n",
       "    .dataframe thead th {\n",
       "        text-align: right;\n",
       "    }\n",
       "</style>\n",
       "<table border=\"1\" class=\"dataframe\">\n",
       "  <thead>\n",
       "    <tr style=\"text-align: right;\">\n",
       "      <th></th>\n",
       "      <th>VL_TOTAL</th>\n",
       "      <th>VL_QUOTA</th>\n",
       "      <th>VL_PATRIM_LIQ</th>\n",
       "      <th>CAPTC_DIA</th>\n",
       "      <th>RESG_DIA</th>\n",
       "      <th>NR_COTST</th>\n",
       "    </tr>\n",
       "  </thead>\n",
       "  <tbody>\n",
       "    <tr>\n",
       "      <th>count</th>\n",
       "      <td>1.533021e+07</td>\n",
       "      <td>1.533021e+07</td>\n",
       "      <td>1.533021e+07</td>\n",
       "      <td>1.533021e+07</td>\n",
       "      <td>1.533021e+07</td>\n",
       "      <td>1.533021e+07</td>\n",
       "    </tr>\n",
       "    <tr>\n",
       "      <th>mean</th>\n",
       "      <td>4.529128e+08</td>\n",
       "      <td>8.985122e+03</td>\n",
       "      <td>4.511406e+08</td>\n",
       "      <td>2.841372e+06</td>\n",
       "      <td>2.748696e+06</td>\n",
       "      <td>1.064273e+03</td>\n",
       "    </tr>\n",
       "    <tr>\n",
       "      <th>std</th>\n",
       "      <td>3.034679e+09</td>\n",
       "      <td>5.421335e+05</td>\n",
       "      <td>3.014671e+09</td>\n",
       "      <td>7.053478e+07</td>\n",
       "      <td>6.935744e+07</td>\n",
       "      <td>2.118211e+04</td>\n",
       "    </tr>\n",
       "    <tr>\n",
       "      <th>min</th>\n",
       "      <td>-8.804822e+08</td>\n",
       "      <td>1.000000e-09</td>\n",
       "      <td>-2.191165e+04</td>\n",
       "      <td>0.000000e+00</td>\n",
       "      <td>0.000000e+00</td>\n",
       "      <td>1.000000e+00</td>\n",
       "    </tr>\n",
       "    <tr>\n",
       "      <th>25%</th>\n",
       "      <td>1.699084e+07</td>\n",
       "      <td>1.399019e+00</td>\n",
       "      <td>1.698625e+07</td>\n",
       "      <td>0.000000e+00</td>\n",
       "      <td>0.000000e+00</td>\n",
       "      <td>1.000000e+00</td>\n",
       "    </tr>\n",
       "    <tr>\n",
       "      <th>50%</th>\n",
       "      <td>4.766917e+07</td>\n",
       "      <td>2.896464e+00</td>\n",
       "      <td>4.760719e+07</td>\n",
       "      <td>0.000000e+00</td>\n",
       "      <td>0.000000e+00</td>\n",
       "      <td>2.000000e+00</td>\n",
       "    </tr>\n",
       "    <tr>\n",
       "      <th>75%</th>\n",
       "      <td>1.725717e+08</td>\n",
       "      <td>2.895244e+01</td>\n",
       "      <td>1.720545e+08</td>\n",
       "      <td>0.000000e+00</td>\n",
       "      <td>0.000000e+00</td>\n",
       "      <td>1.300000e+01</td>\n",
       "    </tr>\n",
       "    <tr>\n",
       "      <th>max</th>\n",
       "      <td>3.439999e+12</td>\n",
       "      <td>1.130692e+08</td>\n",
       "      <td>3.439999e+12</td>\n",
       "      <td>4.281956e+10</td>\n",
       "      <td>4.230832e+10</td>\n",
       "      <td>5.300000e+07</td>\n",
       "    </tr>\n",
       "  </tbody>\n",
       "</table>\n",
       "</div>"
      ],
      "text/plain": [
       "           VL_TOTAL      VL_QUOTA  VL_PATRIM_LIQ     CAPTC_DIA      RESG_DIA  \\\n",
       "count  1.533021e+07  1.533021e+07   1.533021e+07  1.533021e+07  1.533021e+07   \n",
       "mean   4.529128e+08  8.985122e+03   4.511406e+08  2.841372e+06  2.748696e+06   \n",
       "std    3.034679e+09  5.421335e+05   3.014671e+09  7.053478e+07  6.935744e+07   \n",
       "min   -8.804822e+08  1.000000e-09  -2.191165e+04  0.000000e+00  0.000000e+00   \n",
       "25%    1.699084e+07  1.399019e+00   1.698625e+07  0.000000e+00  0.000000e+00   \n",
       "50%    4.766917e+07  2.896464e+00   4.760719e+07  0.000000e+00  0.000000e+00   \n",
       "75%    1.725717e+08  2.895244e+01   1.720545e+08  0.000000e+00  0.000000e+00   \n",
       "max    3.439999e+12  1.130692e+08   3.439999e+12  4.281956e+10  4.230832e+10   \n",
       "\n",
       "           NR_COTST  \n",
       "count  1.533021e+07  \n",
       "mean   1.064273e+03  \n",
       "std    2.118211e+04  \n",
       "min    1.000000e+00  \n",
       "25%    1.000000e+00  \n",
       "50%    2.000000e+00  \n",
       "75%    1.300000e+01  \n",
       "max    5.300000e+07  "
      ]
     },
     "execution_count": 6,
     "metadata": {},
     "output_type": "execute_result"
    }
   ],
   "source": [
    "historicSeries = historicSeries[historicSeries[\"VL_QUOTA\"]>0]\n",
    "historicSeries.describe()"
   ]
  },
  {
   "cell_type": "code",
   "execution_count": 7,
   "metadata": {},
   "outputs": [
    {
     "data": {
      "text/html": [
       "<div>\n",
       "<style scoped>\n",
       "    .dataframe tbody tr th:only-of-type {\n",
       "        vertical-align: middle;\n",
       "    }\n",
       "\n",
       "    .dataframe tbody tr th {\n",
       "        vertical-align: top;\n",
       "    }\n",
       "\n",
       "    .dataframe thead th {\n",
       "        text-align: right;\n",
       "    }\n",
       "</style>\n",
       "<table border=\"1\" class=\"dataframe\">\n",
       "  <thead>\n",
       "    <tr style=\"text-align: right;\">\n",
       "      <th></th>\n",
       "      <th>VL_TOTAL</th>\n",
       "      <th>VL_QUOTA</th>\n",
       "      <th>VL_PATRIM_LIQ</th>\n",
       "      <th>CAPTC_DIA</th>\n",
       "      <th>RESG_DIA</th>\n",
       "      <th>NR_COTST</th>\n",
       "    </tr>\n",
       "  </thead>\n",
       "  <tbody>\n",
       "    <tr>\n",
       "      <th>count</th>\n",
       "      <td>1.532976e+07</td>\n",
       "      <td>1.532976e+07</td>\n",
       "      <td>1.532976e+07</td>\n",
       "      <td>1.532976e+07</td>\n",
       "      <td>1.532976e+07</td>\n",
       "      <td>1.532976e+07</td>\n",
       "    </tr>\n",
       "    <tr>\n",
       "      <th>mean</th>\n",
       "      <td>4.529258e+08</td>\n",
       "      <td>8.985337e+03</td>\n",
       "      <td>4.511541e+08</td>\n",
       "      <td>2.841441e+06</td>\n",
       "      <td>2.747510e+06</td>\n",
       "      <td>1.064304e+03</td>\n",
       "    </tr>\n",
       "    <tr>\n",
       "      <th>std</th>\n",
       "      <td>3.034724e+09</td>\n",
       "      <td>5.421416e+05</td>\n",
       "      <td>3.014715e+09</td>\n",
       "      <td>7.053581e+07</td>\n",
       "      <td>6.933424e+07</td>\n",
       "      <td>2.118243e+04</td>\n",
       "    </tr>\n",
       "    <tr>\n",
       "      <th>min</th>\n",
       "      <td>-8.804822e+08</td>\n",
       "      <td>1.000000e-09</td>\n",
       "      <td>1.000000e-02</td>\n",
       "      <td>0.000000e+00</td>\n",
       "      <td>0.000000e+00</td>\n",
       "      <td>1.000000e+00</td>\n",
       "    </tr>\n",
       "    <tr>\n",
       "      <th>25%</th>\n",
       "      <td>1.699188e+07</td>\n",
       "      <td>1.399031e+00</td>\n",
       "      <td>1.698798e+07</td>\n",
       "      <td>0.000000e+00</td>\n",
       "      <td>0.000000e+00</td>\n",
       "      <td>1.000000e+00</td>\n",
       "    </tr>\n",
       "    <tr>\n",
       "      <th>50%</th>\n",
       "      <td>4.767234e+07</td>\n",
       "      <td>2.896527e+00</td>\n",
       "      <td>4.761077e+07</td>\n",
       "      <td>0.000000e+00</td>\n",
       "      <td>0.000000e+00</td>\n",
       "      <td>2.000000e+00</td>\n",
       "    </tr>\n",
       "    <tr>\n",
       "      <th>75%</th>\n",
       "      <td>1.725813e+08</td>\n",
       "      <td>2.895275e+01</td>\n",
       "      <td>1.720642e+08</td>\n",
       "      <td>0.000000e+00</td>\n",
       "      <td>0.000000e+00</td>\n",
       "      <td>1.300000e+01</td>\n",
       "    </tr>\n",
       "    <tr>\n",
       "      <th>max</th>\n",
       "      <td>3.439999e+12</td>\n",
       "      <td>1.130692e+08</td>\n",
       "      <td>3.439999e+12</td>\n",
       "      <td>4.281956e+10</td>\n",
       "      <td>4.230832e+10</td>\n",
       "      <td>5.300000e+07</td>\n",
       "    </tr>\n",
       "  </tbody>\n",
       "</table>\n",
       "</div>"
      ],
      "text/plain": [
       "           VL_TOTAL      VL_QUOTA  VL_PATRIM_LIQ     CAPTC_DIA      RESG_DIA  \\\n",
       "count  1.532976e+07  1.532976e+07   1.532976e+07  1.532976e+07  1.532976e+07   \n",
       "mean   4.529258e+08  8.985337e+03   4.511541e+08  2.841441e+06  2.747510e+06   \n",
       "std    3.034724e+09  5.421416e+05   3.014715e+09  7.053581e+07  6.933424e+07   \n",
       "min   -8.804822e+08  1.000000e-09   1.000000e-02  0.000000e+00  0.000000e+00   \n",
       "25%    1.699188e+07  1.399031e+00   1.698798e+07  0.000000e+00  0.000000e+00   \n",
       "50%    4.767234e+07  2.896527e+00   4.761077e+07  0.000000e+00  0.000000e+00   \n",
       "75%    1.725813e+08  2.895275e+01   1.720642e+08  0.000000e+00  0.000000e+00   \n",
       "max    3.439999e+12  1.130692e+08   3.439999e+12  4.281956e+10  4.230832e+10   \n",
       "\n",
       "           NR_COTST  \n",
       "count  1.532976e+07  \n",
       "mean   1.064304e+03  \n",
       "std    2.118243e+04  \n",
       "min    1.000000e+00  \n",
       "25%    1.000000e+00  \n",
       "50%    2.000000e+00  \n",
       "75%    1.300000e+01  \n",
       "max    5.300000e+07  "
      ]
     },
     "execution_count": 7,
     "metadata": {},
     "output_type": "execute_result"
    }
   ],
   "source": [
    "#historicSeries[historicSeries[\"VL_PATRIM_LIQ\"]==0].describe()\n",
    "\n",
    "historicSeries = historicSeries[historicSeries[\"VL_PATRIM_LIQ\"]>0]\n",
    "historicSeries.describe()"
   ]
  },
  {
   "cell_type": "code",
   "execution_count": 8,
   "metadata": {},
   "outputs": [
    {
     "data": {
      "text/html": [
       "<div>\n",
       "<style scoped>\n",
       "    .dataframe tbody tr th:only-of-type {\n",
       "        vertical-align: middle;\n",
       "    }\n",
       "\n",
       "    .dataframe tbody tr th {\n",
       "        vertical-align: top;\n",
       "    }\n",
       "\n",
       "    .dataframe thead th {\n",
       "        text-align: right;\n",
       "    }\n",
       "</style>\n",
       "<table border=\"1\" class=\"dataframe\">\n",
       "  <thead>\n",
       "    <tr style=\"text-align: right;\">\n",
       "      <th></th>\n",
       "      <th>VL_TOTAL</th>\n",
       "      <th>VL_QUOTA</th>\n",
       "      <th>VL_PATRIM_LIQ</th>\n",
       "      <th>CAPTC_DIA</th>\n",
       "      <th>RESG_DIA</th>\n",
       "      <th>NR_COTST</th>\n",
       "    </tr>\n",
       "  </thead>\n",
       "  <tbody>\n",
       "    <tr>\n",
       "      <th>count</th>\n",
       "      <td>1.532043e+07</td>\n",
       "      <td>1.532043e+07</td>\n",
       "      <td>1.532043e+07</td>\n",
       "      <td>1.532043e+07</td>\n",
       "      <td>1.532043e+07</td>\n",
       "      <td>1.532043e+07</td>\n",
       "    </tr>\n",
       "    <tr>\n",
       "      <th>mean</th>\n",
       "      <td>4.532022e+08</td>\n",
       "      <td>8.990639e+03</td>\n",
       "      <td>4.514139e+08</td>\n",
       "      <td>2.842590e+06</td>\n",
       "      <td>2.748612e+06</td>\n",
       "      <td>1.064741e+03</td>\n",
       "    </tr>\n",
       "    <tr>\n",
       "      <th>std</th>\n",
       "      <td>3.035627e+09</td>\n",
       "      <td>5.423066e+05</td>\n",
       "      <td>3.015605e+09</td>\n",
       "      <td>7.055543e+07</td>\n",
       "      <td>6.935348e+07</td>\n",
       "      <td>2.118886e+04</td>\n",
       "    </tr>\n",
       "    <tr>\n",
       "      <th>min</th>\n",
       "      <td>1.000000e-02</td>\n",
       "      <td>1.000000e-09</td>\n",
       "      <td>1.000000e-02</td>\n",
       "      <td>0.000000e+00</td>\n",
       "      <td>0.000000e+00</td>\n",
       "      <td>1.000000e+00</td>\n",
       "    </tr>\n",
       "    <tr>\n",
       "      <th>25%</th>\n",
       "      <td>1.702424e+07</td>\n",
       "      <td>1.399870e+00</td>\n",
       "      <td>1.701665e+07</td>\n",
       "      <td>0.000000e+00</td>\n",
       "      <td>0.000000e+00</td>\n",
       "      <td>1.000000e+00</td>\n",
       "    </tr>\n",
       "    <tr>\n",
       "      <th>50%</th>\n",
       "      <td>4.774142e+07</td>\n",
       "      <td>2.898579e+00</td>\n",
       "      <td>4.767118e+07</td>\n",
       "      <td>0.000000e+00</td>\n",
       "      <td>0.000000e+00</td>\n",
       "      <td>2.000000e+00</td>\n",
       "    </tr>\n",
       "    <tr>\n",
       "      <th>75%</th>\n",
       "      <td>1.727540e+08</td>\n",
       "      <td>2.896075e+01</td>\n",
       "      <td>1.722238e+08</td>\n",
       "      <td>0.000000e+00</td>\n",
       "      <td>0.000000e+00</td>\n",
       "      <td>1.300000e+01</td>\n",
       "    </tr>\n",
       "    <tr>\n",
       "      <th>max</th>\n",
       "      <td>3.439999e+12</td>\n",
       "      <td>1.130692e+08</td>\n",
       "      <td>3.439999e+12</td>\n",
       "      <td>4.281956e+10</td>\n",
       "      <td>4.230832e+10</td>\n",
       "      <td>5.300000e+07</td>\n",
       "    </tr>\n",
       "  </tbody>\n",
       "</table>\n",
       "</div>"
      ],
      "text/plain": [
       "           VL_TOTAL      VL_QUOTA  VL_PATRIM_LIQ     CAPTC_DIA      RESG_DIA  \\\n",
       "count  1.532043e+07  1.532043e+07   1.532043e+07  1.532043e+07  1.532043e+07   \n",
       "mean   4.532022e+08  8.990639e+03   4.514139e+08  2.842590e+06  2.748612e+06   \n",
       "std    3.035627e+09  5.423066e+05   3.015605e+09  7.055543e+07  6.935348e+07   \n",
       "min    1.000000e-02  1.000000e-09   1.000000e-02  0.000000e+00  0.000000e+00   \n",
       "25%    1.702424e+07  1.399870e+00   1.701665e+07  0.000000e+00  0.000000e+00   \n",
       "50%    4.774142e+07  2.898579e+00   4.767118e+07  0.000000e+00  0.000000e+00   \n",
       "75%    1.727540e+08  2.896075e+01   1.722238e+08  0.000000e+00  0.000000e+00   \n",
       "max    3.439999e+12  1.130692e+08   3.439999e+12  4.281956e+10  4.230832e+10   \n",
       "\n",
       "           NR_COTST  \n",
       "count  1.532043e+07  \n",
       "mean   1.064741e+03  \n",
       "std    2.118886e+04  \n",
       "min    1.000000e+00  \n",
       "25%    1.000000e+00  \n",
       "50%    2.000000e+00  \n",
       "75%    1.300000e+01  \n",
       "max    5.300000e+07  "
      ]
     },
     "execution_count": 8,
     "metadata": {},
     "output_type": "execute_result"
    }
   ],
   "source": [
    "historicSeries = historicSeries[historicSeries[\"VL_TOTAL\"]>0]\n",
    "historicSeries.describe()"
   ]
  },
  {
   "cell_type": "code",
   "execution_count": 9,
   "metadata": {},
   "outputs": [],
   "source": [
    "historicSeries['CAP_LIQ']=historicSeries['CAPTC_DIA']-historicSeries['RESG_DIA']\n",
    "historicSeries['TKT_MED']=historicSeries['VL_PATRIM_LIQ']/historicSeries['NR_COTST']"
   ]
  },
  {
   "cell_type": "markdown",
   "metadata": {},
   "source": [
    "#### Another dataset that we will use is the historic series of the IBOVESPA index, the stock market index for the São Paulo Stock Exchange."
   ]
  },
  {
   "cell_type": "code",
   "execution_count": 10,
   "metadata": {},
   "outputs": [],
   "source": [
    "ibov = yf.Ticker('^BVSP')\n",
    "ibovHistoric = ibov.history(start=\"2016-12-31\",end=\"2021-1-1\")\n",
    "ibovHistoricClose = ibovHistoric[[\"Close\"]] \n",
    "ibovHistoricClose = ibovHistoricClose.rename(columns={'Date':'DATE',\"Close\":\"CLOSE\"}) "
   ]
  },
  {
   "cell_type": "markdown",
   "metadata": {},
   "source": [
    "#### Random stuff about the SELIC rate"
   ]
  },
  {
   "cell_type": "code",
   "execution_count": 11,
   "metadata": {},
   "outputs": [],
   "source": [
    "url = \"SELIC.csv\"\n",
    "#url = \"https://api.bcb.gov.br/dados/serie/bcdata.sgs.1178/dados?formato=json&dataInicial=01/01/2017&dataFinal=31/12/2020\"\n",
    "selicData = pd.read_csv(url,sep=\";\")\n",
    "selicData[\"data\"]=pd.to_datetime(selicData[\"data\"], format='%d/%m/%Y')\n",
    "selicData[\"valor\"] = selicData[\"valor\"].str.replace(\",\",\".\")\n",
    "selicData[\"valor\"]=(((pd.to_numeric(selicData[\"valor\"])/100+1)**252)-1)*100\n",
    "selicData = selicData.set_index(\"data\") "
   ]
  },
  {
   "cell_type": "code",
   "execution_count": null,
   "metadata": {},
   "outputs": [],
   "source": []
  },
  {
   "cell_type": "markdown",
   "metadata": {},
   "source": [
    "On the scope of this study, only common Investment Funds (\"FI\") will be considered. Every form of Investment Fund in Brazil is regulated by CVM, so funds that have a specific purpose (e.g., FUNCINE funds, special investment funds whose objective is to support the movie industry) and certain funds that are closed-end funds (such as FII - Fundos de Investimento Imobiliário or Real Estate Investment Funds, similar to REITs) will be discarded.\n",
    "\n",
    "\n",
    "\n",
    "Also, in order to provide a consistent first sample, only funds that happened to exist between December 31, 2016 and today or existed in January 1, 2017 and were closed in 2021 were considered."
   ]
  },
  {
   "cell_type": "code",
   "execution_count": 12,
   "metadata": {},
   "outputs": [],
   "source": [
    "def mount_FirstLayer(lowerLimit,upperLimit):\n",
    "    firstFundFilterLayer = fundList[fundList[\"TP_FUNDO\"]==\"FI\"]\n",
    "    firstFundFilterLayer = firstFundFilterLayer[firstFundFilterLayer[\"DT_REG\"]<\"2017-01-01\"]\n",
    "    firstFundFilterLayer = firstFundFilterLayer[(firstFundFilterLayer[\"SIT\"]==\"EM FUNCIONAMENTO NORMAL\")]\n",
    "    firstFundFilterLayer = firstFundFilterLayer.drop_duplicates(subset=['CNPJ'], keep='last')\n",
    "    \n",
    "    return firstFundFilterLayer"
   ]
  },
  {
   "cell_type": "code",
   "execution_count": 13,
   "metadata": {},
   "outputs": [],
   "source": [
    "def remove_LayerOutlier(fundLayer):\n",
    "     \n",
    "    dumpColumns = ['CNPJ']\n",
    "    result = pd.DataFrame(dumpColumns)   \n",
    "    minimumCountThreshold = 990\n",
    "    \n",
    "    for cnpj in fundLayer[\"CNPJ\"]:\n",
    "        if historicSeries[historicSeries[\"CNPJ_FUNDO\"]==cnpj].shape[0] >= minimumCountThreshold:\n",
    "            result = result.append([[cnpj]])\n",
    "    \n",
    "    result = result.set_index(\"CNPJ\")\n",
    "    \n",
    "    \n",
    "    return fundLayer.join(result, how='inner')\n",
    "#fundLayer[fundLayer[\"CNPJ\"].isin(acceptedFunds['CNPJ'])]\n"
   ]
  },
  {
   "cell_type": "code",
   "execution_count": 14,
   "metadata": {},
   "outputs": [],
   "source": [
    "#firstFundFilterLayer=mount_FirstLayer('2016-12-30','2020-12-31')\n",
    "#firstFundFilterLayer=remove_LayerOutlier(firstFundFilterLayer)"
   ]
  },
  {
   "cell_type": "code",
   "execution_count": 15,
   "metadata": {},
   "outputs": [],
   "source": [
    "def mount_FinalLayers(firstFundFilterLayer):\n",
    "    secondLayer = firstFundFilterLayer[firstFundFilterLayer[\"DENOM_SOCIAL\"].str.contains(\"COTA\")]\n",
    "     \n",
    "    fixedIncomeFundFilterLayer = secondLayer[secondLayer[\"CLASSE\"].str.contains(\"Fundo de Renda Fixa\")]  \n",
    "\n",
    "    hedgeFundLayer = secondLayer[secondLayer[\"CLASSE\"].str.contains(\"Fundo Multimercado\")]\n",
    "    \n",
    " \n",
    "    #print(\"Before filtering for outliers....\")\n",
    "    #print(\"Fixed Income Funds - {}\".format(fixedIncomeFundFilterLayer.shape[0]))\n",
    "    #print(\"Hedge Funds - {}\".format(hedgeFundLayer.shape[0]))\n",
    "    #print(\"After filtering for outliers....\")\n",
    "      \n",
    "    #hedgeFundLayer = remove_LayerOutlier(hedgeFundLayer)\n",
    "    #print(\"Hedge Funds - {}\".format(hedgeFundLayer.shape[0]))\n",
    "    #fixedIncomeFundFilterLayer = remove_LayerOutlier(fixedIncomeFundFilterLayer)\n",
    "    #print(\"Fixed Income Funds - {}\".format(fixedIncomeFundFilterLayer.shape[0]))\n",
    "    \n",
    "    \n",
    "    return [fixedIncomeFundFilterLayer,hedgeFundLayer]\n",
    "    "
   ]
  },
  {
   "cell_type": "code",
   "execution_count": null,
   "metadata": {},
   "outputs": [],
   "source": []
  },
  {
   "cell_type": "code",
   "execution_count": null,
   "metadata": {},
   "outputs": [],
   "source": [
    " "
   ]
  },
  {
   "cell_type": "code",
   "execution_count": null,
   "metadata": {},
   "outputs": [],
   "source": []
  },
  {
   "cell_type": "code",
   "execution_count": 16,
   "metadata": {},
   "outputs": [],
   "source": [
    "def run_standard_analysis(historicSeries,fundList):\n",
    "    \n",
    "    dumpColumns = ['CNPJ','IbovCorrelation','SELICCorrelation','flowCorrelation','avgTicketCorrelation','vol']\n",
    "    \n",
    "    insightsFund = pd.DataFrame()\n",
    "    insightsFund_SELIC = pd.DataFrame()\n",
    "    insightsFund_Flow = pd.DataFrame()\n",
    "    insightsFund_AvgTicket = pd.DataFrame()\n",
    "    insightsFund_Dump = pd.DataFrame(columns=dumpColumns)\n",
    "\n",
    "    dailyStatsHistoricSeries=historicSeries[historicSeries[\"CNPJ\"].isin(fundList[\"CNPJ\"])]\n",
    "    dailyStatsHistoricSeries=dailyStatsHistoricSeries.rename(columns={\"DT_COMPTC\":\"DATE\"})\n",
    " \n",
    "    for cnpj in fundList['CNPJ']:\n",
    "        historicFundTemp = dailyStatsHistoricSeries[dailyStatsHistoricSeries['CNPJ']==cnpj]    \n",
    "        historicFundTemp.set_index(\"DATE\", inplace = True)  \n",
    "        historicFundTemp = historicFundTemp.join(ibovHistoricClose)    \n",
    "        historicFundTemp = historicFundTemp.dropna()\n",
    "        historicFundTemp = historicFundTemp.join(selicData)\n",
    "        \n",
    "        \n",
    "        \n",
    "        stockCorrelation = [[cnpj,historicFundTemp[[\"NR_COTST\",\"CLOSE\"]].corr().iloc[1,0]]]\n",
    "        SELICCorrelation = [[cnpj,historicFundTemp[[\"NR_COTST\",\"valor\"]].corr().iloc[1,0]]]\n",
    "        flowCorrelation = [[cnpj,historicFundTemp[[\"NR_COTST\",\"CAP_LIQ\"]].corr().iloc[1,0]]]\n",
    "        avgTicketCorrelation = [[cnpj,historicFundTemp[[\"NR_COTST\",\"TKT_MED\"]].corr().iloc[1,0]]]   \n",
    "        vol = [[cnpj,historicFundTemp[\"VL_QUOTA\"].std()/historicFundTemp[\"VL_QUOTA\"].mean()]]\n",
    "        \n",
    "        insightsFund = insightsFund.append(stockCorrelation)   \n",
    "        insightsFund_SELIC = insightsFund_SELIC.append(SELICCorrelation) \n",
    "        insightsFund_Flow = insightsFund_Flow.append(flowCorrelation) \n",
    "        insightsFund_AvgTicket = insightsFund_AvgTicket.append(avgTicketCorrelation) \n",
    "        insightsFund_Dump=insightsFund_Dump.append({'CNPJ':cnpj,'IbovCorrelation':stockCorrelation[0][1],'SELICCorrelation':SELICCorrelation[0][1],'flowCorrelation':flowCorrelation[0][1],'avgTicketCorrelation':avgTicketCorrelation[0][1],'vol':vol[0][1]},ignore_index=True)\n",
    "        \n",
    "    \n",
    "    \n",
    "    return [insightsFund, insightsFund_SELIC, insightsFund_Flow, insightsFund_AvgTicket, insightsFund_Dump]"
   ]
  },
  {
   "cell_type": "code",
   "execution_count": 17,
   "metadata": {},
   "outputs": [],
   "source": [
    "def plot_graphs(insightsFund, insightsFund_SELIC, insightsFund_Flow, insightsFund_AvgTicket, binCount, main_Title):\n",
    "    fig, axs = plt.subplots(1, 4, sharex=False, sharey=False)\n",
    "    fig.set_size_inches(11,4)\n",
    "    plt.suptitle(main_Title)\n",
    "\n",
    "    axs[0].hist(insightsFund[[1]], bins=11)\n",
    "    axs[0].set_title(\"shareholders vs stock market index\")\n",
    "    axs[0].set_xlabel(\"Correlations\")\n",
    "    axs[0].set_ylabel(\"# Funds\")  \n",
    "\n",
    "\n",
    "    axs[1].hist(insightsFund_SELIC[[1]], bins=11)\n",
    "    axs[1].set_title(\"shareholders vs SELIC rates\")\n",
    "    axs[1].set_xlabel(\"Correlations\")\n",
    "    axs[1].set_ylabel(\"# Funds\")  \n",
    "\n",
    "    axs[2].hist(insightsFund_Flow[[1]], bins=11)\n",
    "    axs[2].set_title(\"shareholders vs capital flow\")\n",
    "    axs[2].set_xlabel(\"Correlations\")\n",
    "    axs[2].set_ylabel(\"# Funds\")  \n",
    "\n",
    "    axs[3].hist(insightsFund_AvgTicket[[1]], bins=11)\n",
    "    axs[3].set_title(\"shareholders vs avg ticket\")\n",
    "    axs[3].set_xlabel(\"Correlations\")\n",
    "    axs[3].set_ylabel(\"# Funds\")      \n",
    "\n",
    "    plt.tight_layout()\n",
    "    \n",
    "    plt.savefig(\"{}.png\".format(main_Title))\n",
    "    plt.show()"
   ]
  },
  {
   "cell_type": "markdown",
   "metadata": {},
   "source": [
    "### hedgeFund"
   ]
  },
  {
   "cell_type": "code",
   "execution_count": 18,
   "metadata": {},
   "outputs": [],
   "source": [
    "def hedgeFundAnalysis(startDate,endDate,hedgeFundLayer):\n",
    "    hedgeFundHistoricSeries = historicSeries[historicSeries[\"CNPJ_FUNDO\"].isin(hedgeFundLayer[\"CNPJ\"])]\n",
    "    hedgeFundHistoricSeries = hedgeFundHistoricSeries.rename(columns={'CNPJ_FUNDO':'CNPJ',\"DT_COMPTC\":\"DATE\"})\n",
    "    \n",
    "    hedgeFundHistoricSeries = hedgeFundHistoricSeries[(hedgeFundHistoricSeries['DATE']>=startDate)&(hedgeFundHistoricSeries['DATE']<=endDate)]\n",
    "    \n",
    "    results = run_standard_analysis(hedgeFundHistoricSeries,hedgeFundLayer)\n",
    "    insightshedgeFund = results[0]\n",
    "    insightshedgeFund_SELIC = results[1]\n",
    "    insightshedgeFund_Flow = results[2]\n",
    "    insightshedgeFund_AvgTicket = results[3]\n",
    "    insightshedgeFund_Dump = results[4] \n",
    "    \n",
    "    plot_graphs(insightshedgeFund, insightshedgeFund_SELIC, insightshedgeFund_Flow, insightshedgeFund_AvgTicket,11,\"Hedge Funds Results {}-{}\".format(startDate[:4],endDate[:4]))\n",
    "    insightshedgeFund_Dump.to_csv(\"hedgeFund_dump_{}-{}.csv\".format(startDate,endDate))\n",
    "    print(\"Hedge Fund Data Shape\")\n",
    "    print(insightshedgeFund_Dump.shape)"
   ]
  },
  {
   "cell_type": "markdown",
   "metadata": {},
   "source": [
    "#### Fixed Income Rate Funds"
   ]
  },
  {
   "cell_type": "code",
   "execution_count": 19,
   "metadata": {},
   "outputs": [],
   "source": [
    "def fixedIncomeAnalysis(startDate,endDate,fixedIncomeFundFilterLayer):\n",
    "\n",
    "    fixedIncomeHistoricSeries = historicSeries[historicSeries[\"CNPJ_FUNDO\"].isin(fixedIncomeFundFilterLayer[\"CNPJ\"])]\n",
    "    fixedIncomeHistoricSeries = fixedIncomeHistoricSeries.rename(columns={'CNPJ_FUNDO':'CNPJ',\"DT_COMPTC\":\"DATE\"})\n",
    "    \n",
    "    fixedIncomeHistoricSeries = fixedIncomeHistoricSeries[(fixedIncomeHistoricSeries['DATE']>=startDate)&(fixedIncomeHistoricSeries['DATE']<=endDate)]\n",
    "\n",
    "    results = run_standard_analysis(fixedIncomeHistoricSeries,fixedIncomeFundFilterLayer)\n",
    "    insightsFixedIncome = results[0]\n",
    "    insightsFI_SELIC = results[1]\n",
    "    insightsFI_Flow = results[2]\n",
    "    insightsFI_AvgTicket = results[3]\n",
    "    insightsFI_Dump = results[4]\n",
    "\n",
    "    plot_graphs(insightsFixedIncome, insightsFI_SELIC, insightsFI_Flow, insightsFI_AvgTicket,11,\"Fixed Income Funds Results {}-{}\".format(startDate[:4],endDate[:4]))\n",
    "    insightsFI_Dump.to_csv(\"fixedIncome_dump_{}-{}.csv\".format(startDate,endDate))\n",
    "    print(\"Fixed Income Rate Shape\")\n",
    "    print(insightsFI_Dump.shape)"
   ]
  },
  {
   "cell_type": "markdown",
   "metadata": {},
   "source": [
    "### Yearly analysis"
   ]
  },
  {
   "cell_type": "code",
   "execution_count": 20,
   "metadata": {},
   "outputs": [],
   "source": [
    "def analyze(lowerLimit, upperLimit):\n",
    " \n",
    "    firstFundFilterLayer = mount_FirstLayer(lowerLimit,upperLimit)\n",
    "    filters = mount_FinalLayers(firstFundFilterLayer)\n",
    "    fixedIncomeFundFilterLayer = filters[0]\n",
    "    hedgeFundLayer = filters[1]\n",
    "    #interbankRateFundFilterLayer = filters[2]\n",
    "      \n",
    "    hedgeFundAnalysis(lowerLimit,upperLimit,hedgeFundLayer)\n",
    "    #interbankAnalysis(lowerLimit,upperLimit,interbankRateFundFilterLayer)\n",
    "    fixedIncomeAnalysis(lowerLimit,upperLimit,fixedIncomeFundFilterLayer)\n",
    "    #privateBondAnalysis(lowerLimit,upperLimit,privateBondsFundFilterLayer)"
   ]
  },
  {
   "cell_type": "code",
   "execution_count": 29,
   "metadata": {},
   "outputs": [
    {
     "data": {
      "image/png": "[encoded data removed]",
      "text/plain": [
       "<Figure size 792x288 with 4 Axes>"
      ]
     },
     "metadata": {
      "needs_background": "light"
     },
     "output_type": "display_data"
    },
    {
     "name": "stdout",
     "output_type": "stream",
     "text": [
      "Hedge Fund Data Shape\n",
      "(1537, 6)\n"
     ]
    },
    {
     "data": {
      "image/png": "[encoded data removed]",
      "text/plain": [
       "<Figure size 792x288 with 4 Axes>"
      ]
     },
     "metadata": {
      "needs_background": "light"
     },
     "output_type": "display_data"
    },
    {
     "name": "stdout",
     "output_type": "stream",
     "text": [
      "Fixed Income Rate Shape\n",
      "(473, 6)\n"
     ]
    }
   ],
   "source": [
    "lowerLimit=\"2017-01-01\"\n",
    "upperLimit=\"2020-12-31\"\n",
    "analyze(lowerLimit, upperLimit)"
   ]
  },
  {
   "cell_type": "code",
   "execution_count": 22,
   "metadata": {},
   "outputs": [],
   "source": [
    "def yearByYearAnalysis():\n",
    "    \n",
    "    lowerLimit = \"2017-01-01\"\n",
    "    upperLimit = \"2017-12-31\"\n",
    "    analyze(lowerLimit, upperLimit)\n",
    "    \n",
    "    lowerLimit = \"2018-01-01\"\n",
    "    upperLimit = \"2018-12-31\"\n",
    "    analyze(lowerLimit, upperLimit)\n",
    "    \n",
    "    lowerLimit = \"2019-01-01\"\n",
    "    upperLimit = \"2019-12-31\"\n",
    "    analyze(lowerLimit, upperLimit)\n",
    "    \n",
    "    lowerLimit = \"2020-01-01\"\n",
    "    upperLimit = \"2020-12-31\"\n",
    "    analyze(lowerLimit, upperLimit)"
   ]
  },
  {
   "cell_type": "code",
   "execution_count": 23,
   "metadata": {},
   "outputs": [
    {
     "data": {
      "text/plain": [
       "<function __main__.yearByYearAnalysis()>"
      ]
     },
     "execution_count": 23,
     "metadata": {},
     "output_type": "execute_result"
    }
   ],
   "source": [
    "yearByYearAnalysis"
   ]
  },
  {
   "cell_type": "code",
   "execution_count": 24,
   "metadata": {},
   "outputs": [
    {
     "data": {
      "text/plain": [
       "<AxesSubplot:xlabel='Date'>"
      ]
     },
     "execution_count": 24,
     "metadata": {},
     "output_type": "execute_result"
    },
    {
     "data": {
      "image/png": "[encoded data removed]",
      "text/plain": [
       "<Figure size 432x288 with 1 Axes>"
      ]
     },
     "metadata": {
      "needs_background": "light"
     },
     "output_type": "display_data"
    }
   ],
   "source": [
    "ibovHistoricClose.plot()"
   ]
  },
  {
   "cell_type": "code",
   "execution_count": 25,
   "metadata": {},
   "outputs": [],
   "source": [
    "def plotHistoricIbovData(ibov):\n",
    "\n",
    "    ibovHistoric2017 = ibov.history(start=\"2016-12-31\",end=\"2018-1-1\")\n",
    "    ibovHistoric2018 = ibov.history(start=\"2017-12-31\",end=\"2019-1-1\")\n",
    "    ibovHistoric2019 = ibov.history(start=\"2018-12-31\",end=\"2020-1-1\")\n",
    "    ibovHistoric2020 = ibov.history(start=\"2019-12-31\",end=\"2021-1-1\")\n",
    "\n",
    "    ibovHistoric2017 = ibovHistoric2017[[\"Close\"]] \n",
    "    ibovHistoric2018 = ibovHistoric2018[[\"Close\"]] \n",
    "    ibovHistoric2019 = ibovHistoric2019[[\"Close\"]] \n",
    "    ibovHistoric2020 = ibovHistoric2020[[\"Close\"]] \n",
    "\n",
    "    fig, axs = plt.subplots(2, 2, sharex=False, sharey=False)\n",
    "    fig.set_size_inches(10,6)\n",
    "    plt.suptitle(\"Ibovespa yearly trend\")\n",
    "\n",
    "    axs[0][0].plot(ibovHistoric2017)\n",
    "    axs[0][0].set_title(\"Ibovespa - 2017\")\n",
    "    axs[0][0].set_xlabel(\"Date\")\n",
    "    axs[0][0].set_ylabel(\"Value\")  \n",
    "\n",
    "\n",
    "    axs[1][0].plot(ibovHistoric2018)\n",
    "    axs[1][0].set_title(\"Ibovespa - 2018\")\n",
    "    axs[1][0].set_xlabel(\"Value\")\n",
    "    axs[1][0].set_ylabel(\"Date\")  \n",
    "\n",
    "    axs[0][1].plot(ibovHistoric2019)\n",
    "    axs[0][1].set_title(\"Ibovespa - 2019\")\n",
    "    axs[0][1].set_xlabel(\"Date\")\n",
    "    axs[0][1].set_ylabel(\"Value\")  \n",
    "\n",
    "    axs[1][1].plot(ibovHistoric2020)\n",
    "    axs[1][1].set_title(\"Ibovespa - 2020\")\n",
    "    axs[1][1].set_xlabel(\"Date\")\n",
    "    axs[1][1].set_ylabel(\"Value\")      \n",
    "\n",
    "    plt.tight_layout() \n",
    "    plt.show()"
   ]
  },
  {
   "cell_type": "code",
   "execution_count": 26,
   "metadata": {},
   "outputs": [
    {
     "data": {
      "image/png": "[encoded data removed]",
      "text/plain": [
       "<Figure size 720x432 with 4 Axes>"
      ]
     },
     "metadata": {
      "needs_background": "light"
     },
     "output_type": "display_data"
    }
   ],
   "source": [
    "plotHistoricIbovData(ibov)"
   ]
  },
  {
   "cell_type": "code",
   "execution_count": 27,
   "metadata": {},
   "outputs": [],
   "source": [
    "\n",
    "def plotHistoricSelicData(selicData):\n",
    "    \n",
    "    selicData = selicData.reset_index()\n",
    "    selicData2017 = selicData[((selicData[\"data\"]>'2016-12-31') & (selicData[\"data\"]<'2018-01-01'))].sort_values(\"data\") \n",
    "    selicData2018 = selicData[((selicData[\"data\"]>'2017-12-31') & (selicData[\"data\"]<'2019-01-01'))].sort_values(\"data\") \n",
    "    selicData2019 = selicData[((selicData[\"data\"]>'2018-12-31') & (selicData[\"data\"]<'2020-01-01'))].sort_values(\"data\") \n",
    "    selicData2020 = selicData[((selicData[\"data\"]>'2019-12-31') & (selicData[\"data\"]<'2021-01-01'))].sort_values(\"data\") \n",
    "\n",
    "    selicData2017=selicData2017.set_index('data')\n",
    "    selicData2018=selicData2018.set_index('data')\n",
    "    selicData2019=selicData2019.set_index('data')\n",
    "    selicData2020=selicData2020.set_index('data')\n",
    "\n",
    "\n",
    "\n",
    "\n",
    "    fig, axs = plt.subplots(2, 2, sharex=False, sharey=False)\n",
    "    fig.set_size_inches(10,6)\n",
    "    plt.suptitle(\"SELIC graph\")\n",
    "\n",
    "    axs[0][0].plot(selicData2017)\n",
    "    axs[0][0].set_title(\"SELIC - 2017\")\n",
    "    axs[0][0].set_xlabel(\"Date\")\n",
    "    axs[0][0].set_ylabel(\"Value\")  \n",
    "\n",
    "\n",
    "    axs[1][0].plot(selicData2018)\n",
    "    axs[1][0].set_title(\"SELIC - 2018\")\n",
    "    axs[1][0].set_xlabel(\"Value\")\n",
    "    axs[1][0].set_ylabel(\"Date\")  \n",
    "\n",
    "    axs[0][1].plot(selicData2019)\n",
    "    axs[0][1].set_title(\"SELIC - 2019\")\n",
    "    axs[0][1].set_xlabel(\"Date\")\n",
    "    axs[0][1].set_ylabel(\"Value\")  \n",
    "\n",
    "    axs[1][1].plot(selicData2020)\n",
    "    axs[1][1].set_title(\"SELIC - 2020\")\n",
    "    axs[1][1].set_xlabel(\"Date\")\n",
    "    axs[1][1].set_ylabel(\"Value\")      \n",
    "\n",
    "    plt.tight_layout() \n",
    "    plt.show()"
   ]
  },
  {
   "cell_type": "code",
   "execution_count": 28,
   "metadata": {},
   "outputs": [
    {
     "data": {
      "image/png": "[encoded data removed]",
      "text/plain": [
       "<Figure size 720x432 with 4 Axes>"
      ]
     },
     "metadata": {
      "needs_background": "light"
     },
     "output_type": "display_data"
    }
   ],
   "source": [
    "plotHistoricSelicData(selicData)"
   ]
  },
  {
   "cell_type": "code",
   "execution_count": null,
   "metadata": {},
   "outputs": [],
   "source": []
  },
  {
   "cell_type": "code",
   "execution_count": null,
   "metadata": {},
   "outputs": [],
   "source": []
  },
  {
   "cell_type": "code",
   "execution_count": null,
   "metadata": {},
   "outputs": [],
   "source": []
  },
  {
   "cell_type": "code",
   "execution_count": null,
   "metadata": {},
   "outputs": [],
   "source": []
  },
  {
   "cell_type": "code",
   "execution_count": null,
   "metadata": {},
   "outputs": [],
   "source": []
  }
 ],
 "metadata": {
  "kernelspec": {
   "display_name": "Python 3",
   "language": "python",
   "name": "python3"
  },
  "language_info": {
   "codemirror_mode": {
    "name": "ipython",
    "version": 3
   },
   "file_extension": ".py",
   "mimetype": "text/x-python",
   "name": "python",
   "nbconvert_exporter": "python",
   "pygments_lexer": "ipython3",
   "version": "3.8.5"
  }
 },
 "nbformat": 4,
 "nbformat_minor": 4
}
