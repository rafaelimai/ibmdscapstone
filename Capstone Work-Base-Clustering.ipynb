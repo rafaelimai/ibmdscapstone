{
 "cells": [
  {
   "cell_type": "markdown",
   "metadata": {},
   "source": [
    "# Capstone Project for the Data Science Specialization"
   ]
  },
  {
   "cell_type": "markdown",
   "metadata": {},
   "source": [
    "### Rafael Y. Imai - April 2021"
   ]
  },
  {
   "cell_type": "code",
   "execution_count": 248,
   "metadata": {},
   "outputs": [],
   "source": [
    "import pandas as pd\n",
    "import numpy as np\n",
    "import matplotlib.pyplot as plt\n",
    "import yfinance as yf\n",
    "from sklearn.cluster import KMeans\n"
   ]
  },
  {
   "cell_type": "code",
   "execution_count": 249,
   "metadata": {},
   "outputs": [
    {
     "name": "stdout",
     "output_type": "stream",
     "text": [
      "2017 inserted.\n",
      "2018 inserted.\n",
      "2019 inserted.\n",
      "2020 inserted.\n"
     ]
    }
   ],
   "source": [
    "historicSeries = pd.DataFrame()\n",
    "for year in range(2017,2021):\n",
    "    for month in range(1,13):\n",
    "        file = \"CVMData/inf_diario_fi_{0}{1}.csv\".format(year,str(month).zfill(2))\n",
    "        historicSeries = historicSeries.append(pd.read_csv(file, sep = \";\"))\n",
    "    print(\"{} inserted.\".format(year))\n",
    "\n",
    "historicSeries=historicSeries[[\"CNPJ_FUNDO\",\"DT_COMPTC\",\"VL_TOTAL\",\"VL_QUOTA\",\"VL_PATRIM_LIQ\",\"CAPTC_DIA\",\"RESG_DIA\",\"NR_COTST\"]]\n",
    "historicSeries['CAP_LIQ']=historicSeries['CAPTC_DIA']-historicSeries['RESG_DIA']\n",
    "historicSeries['TKT_MED']=historicSeries['VL_PATRIM_LIQ']/historicSeries['NR_COTST']"
   ]
  },
  {
   "cell_type": "markdown",
   "metadata": {},
   "source": [
    "Also, let's load a dataset with all of the investment funds that have existed since the early 90's in Brazil. This file was also obtained from CVM."
   ]
  },
  {
   "cell_type": "code",
   "execution_count": 269,
   "metadata": {},
   "outputs": [
    {
     "name": "stderr",
     "output_type": "stream",
     "text": [
      "<ipython-input-269-00e3f053539b>:7: SettingWithCopyWarning: \n",
      "A value is trying to be set on a copy of a slice from a DataFrame\n",
      "\n",
      "See the caveats in the documentation: https://pandas.pydata.org/pandas-docs/stable/user_guide/indexing.html#returning-a-view-versus-a-copy\n",
      "  firstFundFilterLayer.drop_duplicates(subset=['CNPJ_FUNDO'], keep='last', inplace=True)\n"
     ]
    }
   ],
   "source": [
    "fundList = pd.read_excel(\"cad_fi.xlsx\")\n",
    "\n",
    "firstFundFilterLayer = fundList[((fundList[\"TP_FUNDO\"]==\"FI\")\n",
    "                                 &(((fundList[\"DT_REG\"]<\"2016-12-31\")&(fundList[\"DT_CANCEL\"]>\"2020-12-31\"))\n",
    "                                   |((fundList[\"DT_REG\"]<\"2016-12-31\")&(fundList[\"SIT\"]==\"EM FUNCIONAMENTO NORMAL\"))))]\n",
    "\n",
    "firstFundFilterLayer.drop_duplicates(subset=['CNPJ_FUNDO'], keep='last', inplace=True)"
   ]
  },
  {
   "cell_type": "markdown",
   "metadata": {},
   "source": [
    "#### Another dataset that we will use is the historic series of the IBOVESPA index, the stock market index for the São Paulo Stock Exchange."
   ]
  },
  {
   "cell_type": "code",
   "execution_count": 270,
   "metadata": {},
   "outputs": [],
   "source": [
    "ibov = yf.Ticker('^BVSP')\n",
    "ibovHistoric = ibov.history(start=\"2017-01-02\",  end=\"2020-12-31\")\n",
    "ibovHistoricClose = ibovHistoric[[\"Close\"]] \n",
    "ibovHistoricClose = ibovHistoricClose.rename(columns={'Date':'DATE',\"Close\":\"CLOSE\"}) "
   ]
  },
  {
   "cell_type": "code",
   "execution_count": 271,
   "metadata": {},
   "outputs": [],
   "source": [
    "selicData = pd.read_json(\"http://api.bcb.gov.br/dados/serie/bcdata.sgs.4189/dados?formato=json&dataInicial=01/01/2017&dataFinal=31/12/2020\")\n",
    "selicData.head()\n",
    "selicData[\"data\"]=pd.to_datetime(selicData.data)\n",
    "selicData = selicData.set_index(\"data\")\n",
    " "
   ]
  },
  {
   "cell_type": "code",
   "execution_count": null,
   "metadata": {},
   "outputs": [],
   "source": []
  },
  {
   "cell_type": "code",
   "execution_count": 272,
   "metadata": {},
   "outputs": [],
   "source": [
    "insightsIhfa_Dump=pd.read_csv(\"ihfa_dump.csv\")\n",
    "insightsFI_Dump=pd.read_csv(\"fixedIncome_dump.csv\")\n",
    "insightsInterbankRate_Dump=pd.read_csv(\"interbankRate_dump.csv\")"
   ]
  },
  {
   "cell_type": "code",
   "execution_count": null,
   "metadata": {},
   "outputs": [],
   "source": []
  },
  {
   "cell_type": "code",
   "execution_count": 273,
   "metadata": {
    "scrolled": true
   },
   "outputs": [],
   "source": [
    "insightsIhfa_Dump=insightsIhfa_Dump[['CNPJ','IbovCorrelation','SELICCorrelation','flowCorrelation','avgTicketCorrelation','vol']]\n",
    "insightsFI_Dump=insightsFI_Dump[['CNPJ','IbovCorrelation','SELICCorrelation','flowCorrelation','avgTicketCorrelation','vol']]\n",
    "insightsInterbankRate_Dump=insightsInterbankRate_Dump[['CNPJ','IbovCorrelation','SELICCorrelation','flowCorrelation','avgTicketCorrelation','vol']]\n",
    "\n",
    "\n",
    "insightsIhfa_Dump=insightsIhfa_Dump.set_index(\"CNPJ\")\n",
    "insightsFI_Dump=insightsFI_Dump.set_index(\"CNPJ\")\n",
    "insightsInterbankRate_Dump=insightsInterbankRate_Dump.set_index(\"CNPJ\")"
   ]
  },
  {
   "cell_type": "code",
   "execution_count": 255,
   "metadata": {},
   "outputs": [],
   "source": [
    "wcss=[]\n",
    "\n",
    "for i in range(1,20):\n",
    "    kmeans = KMeans(n_clusters=i, init='k-means++', max_iter=300, n_init=10, random_state=0)\n",
    "    kmeans.fit(insightsIhfa_Dump[['IbovCorrelation','SELICCorrelation','flowCorrelation','avgTicketCorrelation','vol']].dropna())    \n",
    "    wcss = wcss + [kmeans.inertia_] \n",
    "    \n"
   ]
  },
  {
   "cell_type": "code",
   "execution_count": 256,
   "metadata": {},
   "outputs": [
    {
     "data": {
      "text/plain": [
       "[<matplotlib.lines.Line2D at 0x2960244b760>]"
      ]
     },
     "execution_count": 256,
     "metadata": {},
     "output_type": "execute_result"
    },
    {
     "data": {
      "image/png": "[encoded data removed]",
      "text/plain": [
       "<Figure size 432x288 with 1 Axes>"
      ]
     },
     "metadata": {
      "needs_background": "light"
     },
     "output_type": "display_data"
    }
   ],
   "source": [
    "plt.plot(range(1,20),wcss) \n",
    "#5, vai...."
   ]
  },
  {
   "cell_type": "code",
   "execution_count": 257,
   "metadata": {},
   "outputs": [
    {
     "name": "stdout",
     "output_type": "stream",
     "text": [
      "Centroids:\n",
      "[[-0.03115253 -0.68010393 -0.09704139 -0.28812077  0.07936551]\n",
      " [ 0.04172778  0.63867494 -0.03588784 -0.3546839   0.0985064 ]\n",
      " [-0.7254457   0.64084684  0.0176389  -0.29192732  0.09284521]\n",
      " [ 0.47930459 -0.77933124 -0.0543051   0.58510361  0.10879469]\n",
      " [ 0.56609586 -0.77598108  0.00876602 -0.59909958  0.12317688]]\n"
     ]
    }
   ],
   "source": [
    "kmeans = KMeans(n_clusters=5, init='k-means++', max_iter=300, n_init=10, random_state=0)\n",
    "kmeans.fit(insightsIhfa_Dump[['IbovCorrelation','SELICCorrelation','flowCorrelation','avgTicketCorrelation','vol']].dropna())\n",
    "\n",
    "k_means_labels = kmeans.labels_\n",
    "k_means_cluster_centers = kmeans.cluster_centers_\n",
    "\n",
    "print(\"Centroids:\")\n",
    "print(k_means_cluster_centers)\n"
   ]
  },
  {
   "cell_type": "code",
   "execution_count": 258,
   "metadata": {},
   "outputs": [],
   "source": [
    "transposed = pd.DataFrame(data=k_means_labels)\n"
   ]
  },
  {
   "cell_type": "code",
   "execution_count": 259,
   "metadata": {},
   "outputs": [],
   "source": [
    "parsed = insightsIhfa_Dump.dropna().reset_index().join(transposed)\n",
    "parsed = parsed.set_index(\"CNPJ\")\n",
    "parsed = parsed.rename(columns={0:\"resultKmeans\"})"
   ]
  },
  {
   "cell_type": "code",
   "execution_count": 274,
   "metadata": {},
   "outputs": [],
   "source": [
    "lista_interpretada = firstFundFilterLayer[[\"CNPJ_FUNDO\",\"DENOM_SOCIAL\"]].set_index(\"CNPJ_FUNDO\")\n",
    "lista_interpretada=lista_interpretada.reset_index().rename(columns={\"CNPJ_FUNDO\":\"CNPJ\"}).set_index(\"CNPJ\")"
   ]
  },
  {
   "cell_type": "code",
   "execution_count": 261,
   "metadata": {},
   "outputs": [
    {
     "data": {
      "text/plain": [
       "(237, 6)"
      ]
     },
     "execution_count": 261,
     "metadata": {},
     "output_type": "execute_result"
    }
   ],
   "source": [
    "parsed.shape"
   ]
  },
  {
   "cell_type": "code",
   "execution_count": 262,
   "metadata": {},
   "outputs": [],
   "source": []
  },
  {
   "cell_type": "code",
   "execution_count": 275,
   "metadata": {},
   "outputs": [],
   "source": [
    "parsed2 = parsed.join(lista_interpretada)"
   ]
  },
  {
   "cell_type": "code",
   "execution_count": 276,
   "metadata": {},
   "outputs": [
    {
     "data": {
      "text/plain": [
       "(237, 7)"
      ]
     },
     "execution_count": 276,
     "metadata": {},
     "output_type": "execute_result"
    }
   ],
   "source": [
    "parsed2.shape"
   ]
  },
  {
   "cell_type": "code",
   "execution_count": 278,
   "metadata": {},
   "outputs": [],
   "source": [
    "parsed2.to_csv(\"qualOProblema.csv\")"
   ]
  },
  {
   "cell_type": "code",
   "execution_count": 266,
   "metadata": {},
   "outputs": [
    {
     "data": {
      "text/plain": [
       "IbovCorrelation  SELICCorrelation  flowCorrelation  avgTicketCorrelation  vol       resultKmeans  DENOM_SOCIAL                                                                              \n",
       " 0.827601        -0.840805          0.277932         0.673727             0.141085  3             GIANT ZARATHUSTRA II FUNDO DE INVESTIMENTO EM COTAS DE FUNDOS DE INVESTIMENTO MULTIMERCADO    1\n",
       " 0.379761        -0.884191         -0.006964        -0.085428             0.122591  0             KAPITALO ZETA FUNDO DE INVESTIMENTO EM QUOTAS DE FUNDOS DE INVESTIMENTO MULTIMERCADO          1\n",
       " 0.180385         0.865710          0.657301        -0.434427             0.095310  1             BB MULTIMERCADO LONGO PRAZO GLOBAL VITA PRIVATE FUNDO DE INVESTIMENTO                         1\n",
       " 0.194104        -0.546346         -0.011287        -0.378022             0.091336  0             QUANTITAS FUNDO DE INVESTIMENTO MULTIMERCADO ARBITRAGEM LONGO PRAZO                           1\n",
       " 0.197560         0.090001          0.051217        -0.921914             0.192031  1             JGP EQUITY FUNDO DE INVESTIMENTO EM COTAS DE FUNDOS DE INVESTIMENTO MULTIMERCADO              1\n",
       "                                                                                                                                                                                               ..\n",
       " 0.682245        -0.781391          0.279461        -0.786329             0.092468  4             QUANTITAS FUNDO DE INVESTIMENTO EM COTAS DE FUNDOS DE INVESTIMENTO MULTIMERCADO MALLORCA      1\n",
       " 0.683419        -0.857625          0.041088         0.972959             0.137156  3             SOLANA EQUITY HEDGE FUNDO DE INVESTIMENTO EM COTAS DE FUNDO DE INVESTIMENTO MULTIMERCADO      1\n",
       " 0.688478        -0.865991          0.000982        -0.630078             0.116928  4             AZ QUEST MULTI MAX FUNDO DE INVESTIMENTO EM COTAS DE FUNDOS DE INVESTIMENTO MULTIMERCADO      1\n",
       " 0.690832        -0.775842          0.075228        -0.799313             0.141879  4             GIANT ZARATHUSTRA FUNDO DE INVESTIMENTO EM COTAS DE FUNDOS DE INVESTIMENTO MULTIMERCADO       1\n",
       "-0.844965         0.805947          0.020436        -0.968690             0.080825  2             VERDE AM VII FUNDO DE INVESTIMENTO EM COTAS DE FUNDO DE INVESTIMENTO MULTIMERCADO             1\n",
       "Length: 135, dtype: int64"
      ]
     },
     "execution_count": 266,
     "metadata": {},
     "output_type": "execute_result"
    }
   ],
   "source": [
    "parsed2.value_counts()"
   ]
  },
  {
   "cell_type": "code",
   "execution_count": 267,
   "metadata": {},
   "outputs": [
    {
     "data": {
      "text/html": [
       "<div>\n",
       "<style scoped>\n",
       "    .dataframe tbody tr th:only-of-type {\n",
       "        vertical-align: middle;\n",
       "    }\n",
       "\n",
       "    .dataframe tbody tr th {\n",
       "        vertical-align: top;\n",
       "    }\n",
       "\n",
       "    .dataframe thead th {\n",
       "        text-align: right;\n",
       "    }\n",
       "</style>\n",
       "<table border=\"1\" class=\"dataframe\">\n",
       "  <thead>\n",
       "    <tr style=\"text-align: right;\">\n",
       "      <th></th>\n",
       "      <th>DENOM_SOCIAL</th>\n",
       "    </tr>\n",
       "    <tr>\n",
       "      <th>CNPJ</th>\n",
       "      <th></th>\n",
       "    </tr>\n",
       "  </thead>\n",
       "  <tbody>\n",
       "    <tr>\n",
       "      <th>26.541.175/0001-08</th>\n",
       "      <td>XP MACRO INSTITUCIONAL MASTER FUNDO DE INVESTIMENTO MULTIMERCADO</td>\n",
       "    </tr>\n",
       "    <tr>\n",
       "      <th>26.549.933/0001-26</th>\n",
       "      <td>XP MACRO INSTITUCIONAL FUNDO DE INVESTIMENTO EM COTAS DE FUNDO DE INVESTIMENTO MULTIMERCADO</td>\n",
       "    </tr>\n",
       "    <tr>\n",
       "      <th>26.605.617/0001-24</th>\n",
       "      <td>CSHG RELATIVA FUNDO DE INVESTIMENTO EM COTAS DE FUNDOS DE INVESTIMENTO MULTIMERCADO - CRÉD PRIV IE</td>\n",
       "    </tr>\n",
       "    <tr>\n",
       "      <th>26.648.868/0001-96</th>\n",
       "      <td>ALASKA BLACK FUNDO DE INVESTIMENTO EM COTAS DE FUNDOS DE INVESTIMENTO EM AÇÕES II - BDR NÍVEL I</td>\n",
       "    </tr>\n",
       "    <tr>\n",
       "      <th>26.262.556/0001-40</th>\n",
       "      <td>PORTO SAN GIORGIO MULTIMERCADO CRÉDITO PRIVADO INVESTIMENTO NO EXTERIOR FICFI</td>\n",
       "    </tr>\n",
       "  </tbody>\n",
       "</table>\n",
       "</div>"
      ],
      "text/plain": [
       "                                                                                                          DENOM_SOCIAL\n",
       "CNPJ                                                                                                                  \n",
       "26.541.175/0001-08                                    XP MACRO INSTITUCIONAL MASTER FUNDO DE INVESTIMENTO MULTIMERCADO\n",
       "26.549.933/0001-26         XP MACRO INSTITUCIONAL FUNDO DE INVESTIMENTO EM COTAS DE FUNDO DE INVESTIMENTO MULTIMERCADO\n",
       "26.605.617/0001-24  CSHG RELATIVA FUNDO DE INVESTIMENTO EM COTAS DE FUNDOS DE INVESTIMENTO MULTIMERCADO - CRÉD PRIV IE\n",
       "26.648.868/0001-96     ALASKA BLACK FUNDO DE INVESTIMENTO EM COTAS DE FUNDOS DE INVESTIMENTO EM AÇÕES II - BDR NÍVEL I\n",
       "26.262.556/0001-40                       PORTO SAN GIORGIO MULTIMERCADO CRÉDITO PRIVADO INVESTIMENTO NO EXTERIOR FICFI"
      ]
     },
     "execution_count": 267,
     "metadata": {},
     "output_type": "execute_result"
    }
   ],
   "source": [
    "lista_interpretada.head()"
   ]
  },
  {
   "cell_type": "code",
   "execution_count": 268,
   "metadata": {},
   "outputs": [],
   "source": [
    "#pd.set_option('display.max_colwidth', None)\n",
    "#pd.set_option('display.max_rows', 10)"
   ]
  }
 ],
 "metadata": {
  "kernelspec": {
   "display_name": "Python 3",
   "language": "python",
   "name": "python3"
  },
  "language_info": {
   "codemirror_mode": {
    "name": "ipython",
    "version": 3
   },
   "file_extension": ".py",
   "mimetype": "text/x-python",
   "name": "python",
   "nbconvert_exporter": "python",
   "pygments_lexer": "ipython3",
   "version": "3.8.5"
  }
 },
 "nbformat": 4,
 "nbformat_minor": 4
}
