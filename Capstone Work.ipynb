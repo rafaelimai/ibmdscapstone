{
 "cells": [
  {
   "cell_type": "markdown",
   "metadata": {},
   "source": [
    "# Capstone Project for the Data Science Specialization"
   ]
  },
  {
   "cell_type": "markdown",
   "metadata": {},
   "source": [
    "### Rafael Y. Imai - April 2021"
   ]
  },
  {
   "cell_type": "code",
   "execution_count": 14,
   "metadata": {},
   "outputs": [],
   "source": [
    "import pandas as pd\n",
    "import numpy as np\n",
    "import matplotlib.pyplot as plt"
   ]
  },
  {
   "cell_type": "code",
   "execution_count": 8,
   "metadata": {},
   "outputs": [],
   "source": [
    "dados = pd.read_csv(\"/CVMData/inf_diario_fi_201701.csv\", sep = \";\")"
   ]
  },
  {
   "cell_type": "code",
   "execution_count": 9,
   "metadata": {},
   "outputs": [],
   "source": [
    "cadFundos = pd.read_excel(\"cad_fi.xlsx\")"
   ]
  },
  {
   "cell_type": "code",
   "execution_count": 6,
   "metadata": {},
   "outputs": [
    {
     "data": {
      "text/plain": [
       "(60378, 39)"
      ]
     },
     "execution_count": 6,
     "metadata": {},
     "output_type": "execute_result"
    }
   ],
   "source": [
    "cadFundos.shape"
   ]
  },
  {
   "cell_type": "code",
   "execution_count": 10,
   "metadata": {},
   "outputs": [
    {
     "data": {
      "text/html": [
       "<div>\n",
       "<style scoped>\n",
       "    .dataframe tbody tr th:only-of-type {\n",
       "        vertical-align: middle;\n",
       "    }\n",
       "\n",
       "    .dataframe tbody tr th {\n",
       "        vertical-align: top;\n",
       "    }\n",
       "\n",
       "    .dataframe thead th {\n",
       "        text-align: right;\n",
       "    }\n",
       "</style>\n",
       "<table border=\"1\" class=\"dataframe\">\n",
       "  <thead>\n",
       "    <tr style=\"text-align: right;\">\n",
       "      <th></th>\n",
       "      <th>CNPJ_FUNDO</th>\n",
       "      <th>DT_COMPTC</th>\n",
       "      <th>VL_TOTAL</th>\n",
       "      <th>VL_QUOTA</th>\n",
       "      <th>VL_PATRIM_LIQ</th>\n",
       "      <th>CAPTC_DIA</th>\n",
       "      <th>RESG_DIA</th>\n",
       "      <th>NR_COTST</th>\n",
       "    </tr>\n",
       "  </thead>\n",
       "  <tbody>\n",
       "    <tr>\n",
       "      <th>0</th>\n",
       "      <td>00.017.024/0001-53</td>\n",
       "      <td>2017-01-02</td>\n",
       "      <td>1082310.35</td>\n",
       "      <td>24.264751</td>\n",
       "      <td>1080998.58</td>\n",
       "      <td>0.0</td>\n",
       "      <td>0.0</td>\n",
       "      <td>1</td>\n",
       "    </tr>\n",
       "    <tr>\n",
       "      <th>1</th>\n",
       "      <td>00.017.024/0001-53</td>\n",
       "      <td>2017-01-03</td>\n",
       "      <td>1082843.72</td>\n",
       "      <td>24.274863</td>\n",
       "      <td>1081449.09</td>\n",
       "      <td>0.0</td>\n",
       "      <td>0.0</td>\n",
       "      <td>1</td>\n",
       "    </tr>\n",
       "    <tr>\n",
       "      <th>2</th>\n",
       "      <td>00.017.024/0001-53</td>\n",
       "      <td>2017-01-04</td>\n",
       "      <td>1083398.28</td>\n",
       "      <td>24.284681</td>\n",
       "      <td>1081886.49</td>\n",
       "      <td>0.0</td>\n",
       "      <td>0.0</td>\n",
       "      <td>1</td>\n",
       "    </tr>\n",
       "    <tr>\n",
       "      <th>3</th>\n",
       "      <td>00.017.024/0001-53</td>\n",
       "      <td>2017-01-05</td>\n",
       "      <td>1083940.08</td>\n",
       "      <td>24.294975</td>\n",
       "      <td>1082345.09</td>\n",
       "      <td>0.0</td>\n",
       "      <td>0.0</td>\n",
       "      <td>1</td>\n",
       "    </tr>\n",
       "    <tr>\n",
       "      <th>4</th>\n",
       "      <td>00.017.024/0001-53</td>\n",
       "      <td>2017-01-06</td>\n",
       "      <td>1084174.96</td>\n",
       "      <td>24.304952</td>\n",
       "      <td>1082789.54</td>\n",
       "      <td>0.0</td>\n",
       "      <td>0.0</td>\n",
       "      <td>1</td>\n",
       "    </tr>\n",
       "  </tbody>\n",
       "</table>\n",
       "</div>"
      ],
      "text/plain": [
       "           CNPJ_FUNDO   DT_COMPTC    VL_TOTAL   VL_QUOTA  VL_PATRIM_LIQ  \\\n",
       "0  00.017.024/0001-53  2017-01-02  1082310.35  24.264751     1080998.58   \n",
       "1  00.017.024/0001-53  2017-01-03  1082843.72  24.274863     1081449.09   \n",
       "2  00.017.024/0001-53  2017-01-04  1083398.28  24.284681     1081886.49   \n",
       "3  00.017.024/0001-53  2017-01-05  1083940.08  24.294975     1082345.09   \n",
       "4  00.017.024/0001-53  2017-01-06  1084174.96  24.304952     1082789.54   \n",
       "\n",
       "   CAPTC_DIA  RESG_DIA  NR_COTST  \n",
       "0        0.0       0.0         1  \n",
       "1        0.0       0.0         1  \n",
       "2        0.0       0.0         1  \n",
       "3        0.0       0.0         1  \n",
       "4        0.0       0.0         1  "
      ]
     },
     "execution_count": 10,
     "metadata": {},
     "output_type": "execute_result"
    }
   ],
   "source": [
    "dados.head()"
   ]
  },
  {
   "cell_type": "code",
   "execution_count": 12,
   "metadata": {},
   "outputs": [
    {
     "data": {
      "text/html": [
       "<div>\n",
       "<style scoped>\n",
       "    .dataframe tbody tr th:only-of-type {\n",
       "        vertical-align: middle;\n",
       "    }\n",
       "\n",
       "    .dataframe tbody tr th {\n",
       "        vertical-align: top;\n",
       "    }\n",
       "\n",
       "    .dataframe thead th {\n",
       "        text-align: right;\n",
       "    }\n",
       "</style>\n",
       "<table border=\"1\" class=\"dataframe\">\n",
       "  <thead>\n",
       "    <tr style=\"text-align: right;\">\n",
       "      <th></th>\n",
       "      <th>CNPJ_FUNDO</th>\n",
       "      <th>DT_COMPTC</th>\n",
       "      <th>VL_TOTAL</th>\n",
       "      <th>VL_QUOTA</th>\n",
       "      <th>VL_PATRIM_LIQ</th>\n",
       "      <th>CAPTC_DIA</th>\n",
       "      <th>RESG_DIA</th>\n",
       "      <th>NR_COTST</th>\n",
       "    </tr>\n",
       "  </thead>\n",
       "  <tbody>\n",
       "    <tr>\n",
       "      <th>149950</th>\n",
       "      <td>14.188.162/0001-00</td>\n",
       "      <td>2017-01-02</td>\n",
       "      <td>4.221649e+08</td>\n",
       "      <td>1.730198</td>\n",
       "      <td>4.222229e+08</td>\n",
       "      <td>1175134.40</td>\n",
       "      <td>442686.20</td>\n",
       "      <td>7335</td>\n",
       "    </tr>\n",
       "    <tr>\n",
       "      <th>149951</th>\n",
       "      <td>14.188.162/0001-00</td>\n",
       "      <td>2017-01-03</td>\n",
       "      <td>4.231282e+08</td>\n",
       "      <td>1.731117</td>\n",
       "      <td>4.237659e+08</td>\n",
       "      <td>1318949.54</td>\n",
       "      <td>0.00</td>\n",
       "      <td>7367</td>\n",
       "    </tr>\n",
       "    <tr>\n",
       "      <th>149952</th>\n",
       "      <td>14.188.162/0001-00</td>\n",
       "      <td>2017-01-04</td>\n",
       "      <td>4.250626e+08</td>\n",
       "      <td>1.732094</td>\n",
       "      <td>4.253207e+08</td>\n",
       "      <td>1666065.52</td>\n",
       "      <td>350471.32</td>\n",
       "      <td>7391</td>\n",
       "    </tr>\n",
       "    <tr>\n",
       "      <th>149953</th>\n",
       "      <td>14.188.162/0001-00</td>\n",
       "      <td>2017-01-05</td>\n",
       "      <td>4.218143e+08</td>\n",
       "      <td>1.732949</td>\n",
       "      <td>4.273475e+08</td>\n",
       "      <td>2087038.11</td>\n",
       "      <td>270304.86</td>\n",
       "      <td>7430</td>\n",
       "    </tr>\n",
       "    <tr>\n",
       "      <th>149954</th>\n",
       "      <td>14.188.162/0001-00</td>\n",
       "      <td>2017-01-06</td>\n",
       "      <td>4.232264e+08</td>\n",
       "      <td>1.733936</td>\n",
       "      <td>4.292862e+08</td>\n",
       "      <td>1781051.26</td>\n",
       "      <td>85748.56</td>\n",
       "      <td>7452</td>\n",
       "    </tr>\n",
       "  </tbody>\n",
       "</table>\n",
       "</div>"
      ],
      "text/plain": [
       "                CNPJ_FUNDO   DT_COMPTC      VL_TOTAL  VL_QUOTA  VL_PATRIM_LIQ  \\\n",
       "149950  14.188.162/0001-00  2017-01-02  4.221649e+08  1.730198   4.222229e+08   \n",
       "149951  14.188.162/0001-00  2017-01-03  4.231282e+08  1.731117   4.237659e+08   \n",
       "149952  14.188.162/0001-00  2017-01-04  4.250626e+08  1.732094   4.253207e+08   \n",
       "149953  14.188.162/0001-00  2017-01-05  4.218143e+08  1.732949   4.273475e+08   \n",
       "149954  14.188.162/0001-00  2017-01-06  4.232264e+08  1.733936   4.292862e+08   \n",
       "\n",
       "         CAPTC_DIA   RESG_DIA  NR_COTST  \n",
       "149950  1175134.40  442686.20      7335  \n",
       "149951  1318949.54       0.00      7367  \n",
       "149952  1666065.52  350471.32      7391  \n",
       "149953  2087038.11  270304.86      7430  \n",
       "149954  1781051.26   85748.56      7452  "
      ]
     },
     "execution_count": 12,
     "metadata": {},
     "output_type": "execute_result"
    }
   ],
   "source": [
    "cnpjTopFIC = \"14.188.162/0001-00\"\n",
    "\n",
    "dadosTopFIC2017 = dados[dados[\"CNPJ_FUNDO\"]==cnpjTopFIC]\n",
    "\n",
    "dadosTopFIC2017.head()"
   ]
  },
  {
   "cell_type": "code",
   "execution_count": 13,
   "metadata": {},
   "outputs": [
    {
     "data": {
      "text/html": [
       "<div>\n",
       "<style scoped>\n",
       "    .dataframe tbody tr th:only-of-type {\n",
       "        vertical-align: middle;\n",
       "    }\n",
       "\n",
       "    .dataframe tbody tr th {\n",
       "        vertical-align: top;\n",
       "    }\n",
       "\n",
       "    .dataframe thead th {\n",
       "        text-align: right;\n",
       "    }\n",
       "</style>\n",
       "<table border=\"1\" class=\"dataframe\">\n",
       "  <thead>\n",
       "    <tr style=\"text-align: right;\">\n",
       "      <th></th>\n",
       "      <th>DT_COMPTC</th>\n",
       "      <th>VL_QUOTA</th>\n",
       "    </tr>\n",
       "  </thead>\n",
       "  <tbody>\n",
       "    <tr>\n",
       "      <th>149950</th>\n",
       "      <td>2017-01-02</td>\n",
       "      <td>1.730198</td>\n",
       "    </tr>\n",
       "    <tr>\n",
       "      <th>149951</th>\n",
       "      <td>2017-01-03</td>\n",
       "      <td>1.731117</td>\n",
       "    </tr>\n",
       "    <tr>\n",
       "      <th>149952</th>\n",
       "      <td>2017-01-04</td>\n",
       "      <td>1.732094</td>\n",
       "    </tr>\n",
       "    <tr>\n",
       "      <th>149953</th>\n",
       "      <td>2017-01-05</td>\n",
       "      <td>1.732949</td>\n",
       "    </tr>\n",
       "    <tr>\n",
       "      <th>149954</th>\n",
       "      <td>2017-01-06</td>\n",
       "      <td>1.733936</td>\n",
       "    </tr>\n",
       "  </tbody>\n",
       "</table>\n",
       "</div>"
      ],
      "text/plain": [
       "         DT_COMPTC  VL_QUOTA\n",
       "149950  2017-01-02  1.730198\n",
       "149951  2017-01-03  1.731117\n",
       "149952  2017-01-04  1.732094\n",
       "149953  2017-01-05  1.732949\n",
       "149954  2017-01-06  1.733936"
      ]
     },
     "execution_count": 13,
     "metadata": {},
     "output_type": "execute_result"
    }
   ],
   "source": [
    "dadosRefinados = dadosTopFIC2017[[\"DT_COMPTC\", \"VL_QUOTA\"]]\n",
    "dadosRefinados.head()"
   ]
  },
  {
   "cell_type": "code",
   "execution_count": 16,
   "metadata": {},
   "outputs": [
    {
     "data": {
      "text/plain": [
       "<AxesSubplot:xlabel='DT_COMPTC'>"
      ]
     },
     "execution_count": 16,
     "metadata": {},
     "output_type": "execute_result"
    },
    {
     "data": {
      "image/png": "[encoded data removed]",
      "text/plain": [
       "<Figure size 432x288 with 1 Axes>"
      ]
     },
     "metadata": {
      "needs_background": "light"
     },
     "output_type": "display_data"
    }
   ],
   "source": [
    "dadosRefinados.plot(x=\"DT_COMPTC\", y=\"VL_QUOTA\")"
   ]
  },
  {
   "cell_type": "code",
   "execution_count": null,
   "metadata": {},
   "outputs": [],
   "source": []
  },
  {
   "cell_type": "code",
   "execution_count": null,
   "metadata": {},
   "outputs": [],
   "source": []
  }
 ],
 "metadata": {
  "kernelspec": {
   "display_name": "Python 3",
   "language": "python",
   "name": "python3"
  },
  "language_info": {
   "codemirror_mode": {
    "name": "ipython",
    "version": 3
   },
   "file_extension": ".py",
   "mimetype": "text/x-python",
   "name": "python",
   "nbconvert_exporter": "python",
   "pygments_lexer": "ipython3",
   "version": "3.8.5"
  }
 },
 "nbformat": 4,
 "nbformat_minor": 4
}
