{
 "cells": [
  {
   "cell_type": "markdown",
   "metadata": {},
   "source": [
    "# Capstone Project for the Data Science Specialization"
   ]
  },
  {
   "cell_type": "markdown",
   "metadata": {},
   "source": [
    "### Rafael Y. Imai - April 2021"
   ]
  },
  {
   "cell_type": "code",
   "execution_count": 5,
   "metadata": {},
   "outputs": [],
   "source": [
    "import pandas as pd\n",
    "import numpy as np\n",
    "import matplotlib.pyplot as plt"
   ]
  },
  {
   "cell_type": "markdown",
   "metadata": {},
   "source": [
    "Firstly, let's load the datasets with the investment funds CNPJ (similar to a company ID in Brazil, can be used to identify uniquely a given investment fund),the share value at a given date, along with the volume of subscriptions and redemptions in Brazilian Reais:"
   ]
  },
  {
   "cell_type": "code",
   "execution_count": 50,
   "metadata": {},
   "outputs": [
    {
     "name": "stdout",
     "output_type": "stream",
     "text": [
      "2017 inserted.\n",
      "2018 inserted.\n",
      "2019 inserted.\n",
      "2020 inserted.\n"
     ]
    }
   ],
   "source": [
    "historicSeries = pd.DataFrame()\n",
    "for year in range(2017,2021):\n",
    "    for month in range(1,13):\n",
    "        file = \"CVMData/inf_diario_fi_{0}{1}.csv\".format(year,str(month).zfill(2))\n",
    "        historicSeries = historicSeries.append(pd.read_csv(file, sep = \";\"))\n",
    "    print(\"{} inserted.\".format(year))\n"
   ]
  },
  {
   "cell_type": "markdown",
   "metadata": {},
   "source": [
    "Also, let's load a dataset with all of the investment funds that have existed since the early 90's in Brazil. This file was also obtained from CVM."
   ]
  },
  {
   "cell_type": "code",
   "execution_count": 97,
   "metadata": {},
   "outputs": [],
   "source": [
    "historicSeries=historicSeries[[\"CNPJ_FUNDO\",\"DT_COMPTC\",\"VL_TOTAL\",\"VL_QUOTA\",\"VL_PATRIM_LIQ\",\"CAPTC_DIA\",\"RESG_DIA\",\"NR_COTST\"]]\n",
    "#= historicSeries.drop(\"TP_FUNDO\") "
   ]
  },
  {
   "cell_type": "code",
   "execution_count": 98,
   "metadata": {},
   "outputs": [],
   "source": [
    "fundList = pd.read_excel(\"cad_fi.xlsx\")"
   ]
  },
  {
   "cell_type": "code",
   "execution_count": 99,
   "metadata": {},
   "outputs": [
    {
     "name": "stdout",
     "output_type": "stream",
     "text": [
      "(60378, 39)\n",
      "(15398434, 8)\n"
     ]
    }
   ],
   "source": [
    "print(fundList.shape)\n",
    "print(historicSeries.shape)"
   ]
  },
  {
   "cell_type": "code",
   "execution_count": 16,
   "metadata": {},
   "outputs": [
    {
     "data": {
      "text/html": [
       "<div>\n",
       "<style scoped>\n",
       "    .dataframe tbody tr th:only-of-type {\n",
       "        vertical-align: middle;\n",
       "    }\n",
       "\n",
       "    .dataframe tbody tr th {\n",
       "        vertical-align: top;\n",
       "    }\n",
       "\n",
       "    .dataframe thead th {\n",
       "        text-align: right;\n",
       "    }\n",
       "</style>\n",
       "<table border=\"1\" class=\"dataframe\">\n",
       "  <thead>\n",
       "    <tr style=\"text-align: right;\">\n",
       "      <th></th>\n",
       "      <th>TP_FUNDO</th>\n",
       "      <th>CNPJ_FUNDO</th>\n",
       "      <th>DENOM_SOCIAL</th>\n",
       "      <th>DT_REG</th>\n",
       "      <th>DT_CONST</th>\n",
       "      <th>CD_CVM</th>\n",
       "      <th>DT_CANCEL</th>\n",
       "      <th>SIT</th>\n",
       "      <th>DT_INI_SIT</th>\n",
       "      <th>DT_INI_ATIV</th>\n",
       "      <th>...</th>\n",
       "      <th>ADMIN</th>\n",
       "      <th>PF_PJ_GESTOR</th>\n",
       "      <th>CPF_CNPJ_GESTOR</th>\n",
       "      <th>GESTOR</th>\n",
       "      <th>CNPJ_AUDITOR</th>\n",
       "      <th>AUDITOR</th>\n",
       "      <th>CNPJ_CUSTODIANTE</th>\n",
       "      <th>CUSTODIANTE</th>\n",
       "      <th>CNPJ_CONTROLADOR</th>\n",
       "      <th>CONTROLADOR</th>\n",
       "    </tr>\n",
       "  </thead>\n",
       "  <tbody>\n",
       "    <tr>\n",
       "      <th>0</th>\n",
       "      <td>FACFIF</td>\n",
       "      <td>00.000.684/0001-21</td>\n",
       "      <td>DEUTSCHE BANK FDO APLIC QUOTAS FDO INV FINANCE...</td>\n",
       "      <td>2003-04-30</td>\n",
       "      <td>1994-12-20</td>\n",
       "      <td>19.0</td>\n",
       "      <td>2000-08-01</td>\n",
       "      <td>CANCELADA</td>\n",
       "      <td>2000-08-01</td>\n",
       "      <td>NaT</td>\n",
       "      <td>...</td>\n",
       "      <td>NaN</td>\n",
       "      <td>NaN</td>\n",
       "      <td>NaN</td>\n",
       "      <td>NaN</td>\n",
       "      <td>NaN</td>\n",
       "      <td>NaN</td>\n",
       "      <td>NaN</td>\n",
       "      <td>NaN</td>\n",
       "      <td>NaN</td>\n",
       "      <td>NaN</td>\n",
       "    </tr>\n",
       "  </tbody>\n",
       "</table>\n",
       "<p>1 rows × 39 columns</p>\n",
       "</div>"
      ],
      "text/plain": [
       "  TP_FUNDO          CNPJ_FUNDO  \\\n",
       "0   FACFIF  00.000.684/0001-21   \n",
       "\n",
       "                                        DENOM_SOCIAL     DT_REG   DT_CONST  \\\n",
       "0  DEUTSCHE BANK FDO APLIC QUOTAS FDO INV FINANCE... 2003-04-30 1994-12-20   \n",
       "\n",
       "   CD_CVM  DT_CANCEL        SIT DT_INI_SIT DT_INI_ATIV  ... ADMIN  \\\n",
       "0    19.0 2000-08-01  CANCELADA 2000-08-01         NaT  ...   NaN   \n",
       "\n",
       "  PF_PJ_GESTOR CPF_CNPJ_GESTOR GESTOR CNPJ_AUDITOR AUDITOR CNPJ_CUSTODIANTE  \\\n",
       "0          NaN             NaN    NaN          NaN     NaN              NaN   \n",
       "\n",
       "  CUSTODIANTE CNPJ_CONTROLADOR CONTROLADOR  \n",
       "0         NaN              NaN         NaN  \n",
       "\n",
       "[1 rows x 39 columns]"
      ]
     },
     "execution_count": 16,
     "metadata": {},
     "output_type": "execute_result"
    }
   ],
   "source": [
    "fundList.head(1)"
   ]
  },
  {
   "cell_type": "markdown",
   "metadata": {},
   "source": [
    "On the scope of this study, only common Investment Funds (\"FI\") will be considered. Every form of Investment Fund in Brazil is regulated by CVM, so funds that have a specific purpose (e.g., FUNCINE funds, special investment funds whose objective is to support the movie industry) and certain funds that are closed-end funds (such as FII - Fundos de Investimento Imobiliário or Real Estate Investment Funds, similar to REITs) will be discarded.\n",
    "\n",
    "\n",
    "\n",
    "Also, in order to provide a consistent first sample, only funds that happened to exist between December 31, 2016 and today or existed in January 1, 2017 and were closed in 2021 were considered."
   ]
  },
  {
   "cell_type": "code",
   "execution_count": 30,
   "metadata": {},
   "outputs": [],
   "source": [
    "firstFundFilterLayer = fundList[((fundList[\"TP_FUNDO\"]==\"FI\")\n",
    "                                 &(((fundList[\"DT_REG\"]<\"2016-12-31\")&(fundList[\"DT_CANCEL\"]>\"2020-12-31\"))\n",
    "                                   |((fundList[\"DT_REG\"]<\"2016-12-31\")&(fundList[\"SIT\"]==\"EM FUNCIONAMENTO NORMAL\"))))]"
   ]
  },
  {
   "cell_type": "code",
   "execution_count": 33,
   "metadata": {},
   "outputs": [
    {
     "data": {
      "text/html": [
       "<div>\n",
       "<style scoped>\n",
       "    .dataframe tbody tr th:only-of-type {\n",
       "        vertical-align: middle;\n",
       "    }\n",
       "\n",
       "    .dataframe tbody tr th {\n",
       "        vertical-align: top;\n",
       "    }\n",
       "\n",
       "    .dataframe thead th {\n",
       "        text-align: right;\n",
       "    }\n",
       "</style>\n",
       "<table border=\"1\" class=\"dataframe\">\n",
       "  <thead>\n",
       "    <tr style=\"text-align: right;\">\n",
       "      <th></th>\n",
       "      <th>TP_FUNDO</th>\n",
       "      <th>CNPJ_FUNDO</th>\n",
       "      <th>DENOM_SOCIAL</th>\n",
       "      <th>DT_REG</th>\n",
       "      <th>DT_CONST</th>\n",
       "      <th>CD_CVM</th>\n",
       "      <th>DT_CANCEL</th>\n",
       "      <th>SIT</th>\n",
       "      <th>DT_INI_SIT</th>\n",
       "      <th>DT_INI_ATIV</th>\n",
       "      <th>...</th>\n",
       "      <th>ADMIN</th>\n",
       "      <th>PF_PJ_GESTOR</th>\n",
       "      <th>CPF_CNPJ_GESTOR</th>\n",
       "      <th>GESTOR</th>\n",
       "      <th>CNPJ_AUDITOR</th>\n",
       "      <th>AUDITOR</th>\n",
       "      <th>CNPJ_CUSTODIANTE</th>\n",
       "      <th>CUSTODIANTE</th>\n",
       "      <th>CNPJ_CONTROLADOR</th>\n",
       "      <th>CONTROLADOR</th>\n",
       "    </tr>\n",
       "  </thead>\n",
       "  <tbody>\n",
       "    <tr>\n",
       "      <th>5290</th>\n",
       "      <td>FI</td>\n",
       "      <td>00.017.024/0001-53</td>\n",
       "      <td>FUNDO DE INVESTIMENTO RENDA FIXA EXPONENCIAL</td>\n",
       "      <td>2005-03-31</td>\n",
       "      <td>1994-06-22</td>\n",
       "      <td>43613.0</td>\n",
       "      <td>NaT</td>\n",
       "      <td>EM FUNCIONAMENTO NORMAL</td>\n",
       "      <td>2005-03-18</td>\n",
       "      <td>1994-06-22</td>\n",
       "      <td>...</td>\n",
       "      <td>BANCO BRADESCO S.A.</td>\n",
       "      <td>PJ</td>\n",
       "      <td>62.375.134/0001-44</td>\n",
       "      <td>BRAM - BRADESCO ASSET MANAGEMENT S.A. DISTRIBU...</td>\n",
       "      <td>57.755.217/0001-29</td>\n",
       "      <td>KPMG AUDITORES INDEPENDENTES</td>\n",
       "      <td>60.746.948/0001-12</td>\n",
       "      <td>BANCO BRADESCO S.A.</td>\n",
       "      <td>60.746.948/0001-12</td>\n",
       "      <td>BANCO BRADESCO S.A.</td>\n",
       "    </tr>\n",
       "  </tbody>\n",
       "</table>\n",
       "<p>1 rows × 39 columns</p>\n",
       "</div>"
      ],
      "text/plain": [
       "     TP_FUNDO          CNPJ_FUNDO  \\\n",
       "5290       FI  00.017.024/0001-53   \n",
       "\n",
       "                                      DENOM_SOCIAL     DT_REG   DT_CONST  \\\n",
       "5290  FUNDO DE INVESTIMENTO RENDA FIXA EXPONENCIAL 2005-03-31 1994-06-22   \n",
       "\n",
       "       CD_CVM DT_CANCEL                      SIT DT_INI_SIT DT_INI_ATIV  ...  \\\n",
       "5290  43613.0       NaT  EM FUNCIONAMENTO NORMAL 2005-03-18  1994-06-22  ...   \n",
       "\n",
       "                    ADMIN PF_PJ_GESTOR     CPF_CNPJ_GESTOR  \\\n",
       "5290  BANCO BRADESCO S.A.           PJ  62.375.134/0001-44   \n",
       "\n",
       "                                                 GESTOR        CNPJ_AUDITOR  \\\n",
       "5290  BRAM - BRADESCO ASSET MANAGEMENT S.A. DISTRIBU...  57.755.217/0001-29   \n",
       "\n",
       "                           AUDITOR    CNPJ_CUSTODIANTE          CUSTODIANTE  \\\n",
       "5290  KPMG AUDITORES INDEPENDENTES  60.746.948/0001-12  BANCO BRADESCO S.A.   \n",
       "\n",
       "        CNPJ_CONTROLADOR          CONTROLADOR  \n",
       "5290  60.746.948/0001-12  BANCO BRADESCO S.A.  \n",
       "\n",
       "[1 rows x 39 columns]"
      ]
     },
     "execution_count": 33,
     "metadata": {},
     "output_type": "execute_result"
    }
   ],
   "source": [
    "firstFundFilterLayer.head(1)"
   ]
  },
  {
   "cell_type": "markdown",
   "metadata": {},
   "source": [
    "Some peculiarities of the Brazilian investment fund market must be observed. Among the funds present on the first selection, there might be exclusive funds (funds with a single shareholder or a select set of shareholders, that may apply in illiquid assets and not be subjected to frequent subscriptions and redemptions). As one of the main objects of this work is to assess whether macroeconomic variables have a significant impact on the volume of subscriptions and redemptions, it is interesting to filter out funds that are not subject to a regular volume of subscriptions and redemptions.\n",
    "\n",
    "In this case, I will use the portfolio of IHFA, a market index provided by ANBIMA, an association whose members are companies involved with the financial sector in Brazil. IHFA stands for *Índice de Hedge Funds ANBIMA*, ANBIMA Hedge Funds Index in a literal translation. The portfolio selection criteria involve, among other rules, a minimum of ten shareholders and the exclusion of such exclusive funds.\n",
    "\n",
    "More info can be found (in portuguese) at this link: https://www.anbima.com.br/pt_br/informar/precos-e-indices/indices/ihfa.htm.\n",
    "\n",
    "The portfolio of the last quarter of 2020 will be used to assemble a list of funds, as it corresponds roughly to the end of the selected period. I had to post-process the portfolio file manually, as only a general report including some statistics about the index and the portfolio composition is published. The original file can be found here https://www.anbima.com.br/data/files/04/35/26/3E/E9E057106A070057882BA2A8/IHFA%20-%204T20.xlsx, but I will use a manually assembled Excel spreadsheet to store the CNPJ and the hedge fund names."
   ]
  },
  {
   "cell_type": "code",
   "execution_count": 42,
   "metadata": {},
   "outputs": [
    {
     "data": {
      "text/plain": [
       "(244, 2)"
      ]
     },
     "execution_count": 42,
     "metadata": {},
     "output_type": "execute_result"
    }
   ],
   "source": [
    "ihfaFirstQuarter20 = pd.read_excel(\"ANBIMAData/1Q2020-IHFA.xlsx\")\n",
    "ihfaFirstQuarter20.shape"
   ]
  },
  {
   "cell_type": "code",
   "execution_count": 100,
   "metadata": {},
   "outputs": [],
   "source": [
    "ihfaHistoricSeries = historicSeries[historicSeries[\"CNPJ_FUNDO\"].isin(ihfaFirstQuarter20[\"CNPJ\"])]"
   ]
  },
  {
   "cell_type": "code",
   "execution_count": 101,
   "metadata": {},
   "outputs": [],
   "source": [
    "ihfaHistoricSeries = ihfaHistoricSeries.rename(columns={'CNPJ_FUNDO':'CNPJ',\"DT_COMPTC\":\"DATE\"})"
   ]
  },
  {
   "cell_type": "code",
   "execution_count": 102,
   "metadata": {},
   "outputs": [
    {
     "data": {
      "text/html": [
       "<div>\n",
       "<style scoped>\n",
       "    .dataframe tbody tr th:only-of-type {\n",
       "        vertical-align: middle;\n",
       "    }\n",
       "\n",
       "    .dataframe tbody tr th {\n",
       "        vertical-align: top;\n",
       "    }\n",
       "\n",
       "    .dataframe thead th {\n",
       "        text-align: right;\n",
       "    }\n",
       "</style>\n",
       "<table border=\"1\" class=\"dataframe\">\n",
       "  <thead>\n",
       "    <tr style=\"text-align: right;\">\n",
       "      <th></th>\n",
       "      <th>CNPJ</th>\n",
       "      <th>DATE</th>\n",
       "      <th>VL_TOTAL</th>\n",
       "      <th>VL_QUOTA</th>\n",
       "      <th>VL_PATRIM_LIQ</th>\n",
       "      <th>CAPTC_DIA</th>\n",
       "      <th>RESG_DIA</th>\n",
       "      <th>NR_COTST</th>\n",
       "    </tr>\n",
       "  </thead>\n",
       "  <tbody>\n",
       "    <tr>\n",
       "      <th>506</th>\n",
       "      <td>00.400.490/0001-13</td>\n",
       "      <td>2017-01-02</td>\n",
       "      <td>76038112.10</td>\n",
       "      <td>30955.128585</td>\n",
       "      <td>75480814.36</td>\n",
       "      <td>0.00</td>\n",
       "      <td>0.00</td>\n",
       "      <td>30</td>\n",
       "    </tr>\n",
       "    <tr>\n",
       "      <th>507</th>\n",
       "      <td>00.400.490/0001-13</td>\n",
       "      <td>2017-01-03</td>\n",
       "      <td>76347110.44</td>\n",
       "      <td>31044.028910</td>\n",
       "      <td>75754188.20</td>\n",
       "      <td>56600.00</td>\n",
       "      <td>0.00</td>\n",
       "      <td>30</td>\n",
       "    </tr>\n",
       "    <tr>\n",
       "      <th>508</th>\n",
       "      <td>00.400.490/0001-13</td>\n",
       "      <td>2017-01-04</td>\n",
       "      <td>76240825.20</td>\n",
       "      <td>31011.566480</td>\n",
       "      <td>75674972.81</td>\n",
       "      <td>0.00</td>\n",
       "      <td>0.00</td>\n",
       "      <td>30</td>\n",
       "    </tr>\n",
       "    <tr>\n",
       "      <th>509</th>\n",
       "      <td>00.400.490/0001-13</td>\n",
       "      <td>2017-01-05</td>\n",
       "      <td>75559726.44</td>\n",
       "      <td>30990.475264</td>\n",
       "      <td>75610347.71</td>\n",
       "      <td>15000.00</td>\n",
       "      <td>28157.94</td>\n",
       "      <td>30</td>\n",
       "    </tr>\n",
       "    <tr>\n",
       "      <th>510</th>\n",
       "      <td>00.400.490/0001-13</td>\n",
       "      <td>2017-01-06</td>\n",
       "      <td>75849064.70</td>\n",
       "      <td>31070.953833</td>\n",
       "      <td>75810900.50</td>\n",
       "      <td>4201.98</td>\n",
       "      <td>0.00</td>\n",
       "      <td>30</td>\n",
       "    </tr>\n",
       "  </tbody>\n",
       "</table>\n",
       "</div>"
      ],
      "text/plain": [
       "                   CNPJ        DATE     VL_TOTAL      VL_QUOTA  VL_PATRIM_LIQ  \\\n",
       "506  00.400.490/0001-13  2017-01-02  76038112.10  30955.128585    75480814.36   \n",
       "507  00.400.490/0001-13  2017-01-03  76347110.44  31044.028910    75754188.20   \n",
       "508  00.400.490/0001-13  2017-01-04  76240825.20  31011.566480    75674972.81   \n",
       "509  00.400.490/0001-13  2017-01-05  75559726.44  30990.475264    75610347.71   \n",
       "510  00.400.490/0001-13  2017-01-06  75849064.70  31070.953833    75810900.50   \n",
       "\n",
       "     CAPTC_DIA  RESG_DIA  NR_COTST  \n",
       "506       0.00      0.00        30  \n",
       "507   56600.00      0.00        30  \n",
       "508       0.00      0.00        30  \n",
       "509   15000.00  28157.94        30  \n",
       "510    4201.98      0.00        30  "
      ]
     },
     "execution_count": 102,
     "metadata": {},
     "output_type": "execute_result"
    }
   ],
   "source": [
    "ihfaHistoricSeries.head()\n"
   ]
  },
  {
   "cell_type": "code",
   "execution_count": null,
   "metadata": {},
   "outputs": [],
   "source": [
    "import yfinance as yf\n",
    "\n",
    "ibov = yf.Ticker('^BVSP')\n",
    "\n",
    "ibovHistoric = ibov.history(start=\"2017-01-02\",  end=\"2020-12-31\")\n",
    "ibovHistoricClose = ibovHistoric[[\"Close\"]]"
   ]
  },
  {
   "cell_type": "code",
   "execution_count": 87,
   "metadata": {},
   "outputs": [
    {
     "data": {
      "text/html": [
       "<div>\n",
       "<style scoped>\n",
       "    .dataframe tbody tr th:only-of-type {\n",
       "        vertical-align: middle;\n",
       "    }\n",
       "\n",
       "    .dataframe tbody tr th {\n",
       "        vertical-align: top;\n",
       "    }\n",
       "\n",
       "    .dataframe thead th {\n",
       "        text-align: right;\n",
       "    }\n",
       "</style>\n",
       "<table border=\"1\" class=\"dataframe\">\n",
       "  <thead>\n",
       "    <tr style=\"text-align: right;\">\n",
       "      <th></th>\n",
       "      <th>CLOSE</th>\n",
       "    </tr>\n",
       "    <tr>\n",
       "      <th>Date</th>\n",
       "      <th></th>\n",
       "    </tr>\n",
       "  </thead>\n",
       "  <tbody>\n",
       "    <tr>\n",
       "      <th>2017-01-02</th>\n",
       "      <td>59589.0</td>\n",
       "    </tr>\n",
       "    <tr>\n",
       "      <th>2017-01-03</th>\n",
       "      <td>61814.0</td>\n",
       "    </tr>\n",
       "    <tr>\n",
       "      <th>2017-01-04</th>\n",
       "      <td>61589.0</td>\n",
       "    </tr>\n",
       "    <tr>\n",
       "      <th>2017-01-05</th>\n",
       "      <td>62071.0</td>\n",
       "    </tr>\n",
       "    <tr>\n",
       "      <th>2017-01-06</th>\n",
       "      <td>61665.0</td>\n",
       "    </tr>\n",
       "  </tbody>\n",
       "</table>\n",
       "</div>"
      ],
      "text/plain": [
       "              CLOSE\n",
       "Date               \n",
       "2017-01-02  59589.0\n",
       "2017-01-03  61814.0\n",
       "2017-01-04  61589.0\n",
       "2017-01-05  62071.0\n",
       "2017-01-06  61665.0"
      ]
     },
     "execution_count": 87,
     "metadata": {},
     "output_type": "execute_result"
    }
   ],
   "source": [
    "\n",
    "ibovHistoricClose = ibovHistoricClose.rename(columns={'Date':'DATE',\"Close\":\"CLOSE\"})\n",
    "ibovHistoricClose.head()"
   ]
  },
  {
   "cell_type": "code",
   "execution_count": 114,
   "metadata": {},
   "outputs": [
    {
     "data": {
      "text/html": [
       "<div>\n",
       "<style scoped>\n",
       "    .dataframe tbody tr th:only-of-type {\n",
       "        vertical-align: middle;\n",
       "    }\n",
       "\n",
       "    .dataframe tbody tr th {\n",
       "        vertical-align: top;\n",
       "    }\n",
       "\n",
       "    .dataframe thead th {\n",
       "        text-align: right;\n",
       "    }\n",
       "</style>\n",
       "<table border=\"1\" class=\"dataframe\">\n",
       "  <thead>\n",
       "    <tr style=\"text-align: right;\">\n",
       "      <th></th>\n",
       "      <th>CNPJ_FUNDO</th>\n",
       "      <th>DT_COMPTC</th>\n",
       "      <th>VL_TOTAL</th>\n",
       "      <th>VL_QUOTA</th>\n",
       "      <th>VL_PATRIM_LIQ</th>\n",
       "      <th>CAPTC_DIA</th>\n",
       "      <th>RESG_DIA</th>\n",
       "      <th>NR_COTST</th>\n",
       "    </tr>\n",
       "  </thead>\n",
       "  <tbody>\n",
       "    <tr>\n",
       "      <th>0</th>\n",
       "      <td>00.017.024/0001-53</td>\n",
       "      <td>2017-01-02</td>\n",
       "      <td>1082310.35</td>\n",
       "      <td>24.264751</td>\n",
       "      <td>1080998.58</td>\n",
       "      <td>0.0</td>\n",
       "      <td>0.0</td>\n",
       "      <td>1</td>\n",
       "    </tr>\n",
       "    <tr>\n",
       "      <th>1</th>\n",
       "      <td>00.017.024/0001-53</td>\n",
       "      <td>2017-01-03</td>\n",
       "      <td>1082843.72</td>\n",
       "      <td>24.274863</td>\n",
       "      <td>1081449.09</td>\n",
       "      <td>0.0</td>\n",
       "      <td>0.0</td>\n",
       "      <td>1</td>\n",
       "    </tr>\n",
       "    <tr>\n",
       "      <th>2</th>\n",
       "      <td>00.017.024/0001-53</td>\n",
       "      <td>2017-01-04</td>\n",
       "      <td>1083398.28</td>\n",
       "      <td>24.284681</td>\n",
       "      <td>1081886.49</td>\n",
       "      <td>0.0</td>\n",
       "      <td>0.0</td>\n",
       "      <td>1</td>\n",
       "    </tr>\n",
       "    <tr>\n",
       "      <th>3</th>\n",
       "      <td>00.017.024/0001-53</td>\n",
       "      <td>2017-01-05</td>\n",
       "      <td>1083940.08</td>\n",
       "      <td>24.294975</td>\n",
       "      <td>1082345.09</td>\n",
       "      <td>0.0</td>\n",
       "      <td>0.0</td>\n",
       "      <td>1</td>\n",
       "    </tr>\n",
       "    <tr>\n",
       "      <th>4</th>\n",
       "      <td>00.017.024/0001-53</td>\n",
       "      <td>2017-01-06</td>\n",
       "      <td>1084174.96</td>\n",
       "      <td>24.304952</td>\n",
       "      <td>1082789.54</td>\n",
       "      <td>0.0</td>\n",
       "      <td>0.0</td>\n",
       "      <td>1</td>\n",
       "    </tr>\n",
       "  </tbody>\n",
       "</table>\n",
       "</div>"
      ],
      "text/plain": [
       "           CNPJ_FUNDO   DT_COMPTC    VL_TOTAL   VL_QUOTA  VL_PATRIM_LIQ  \\\n",
       "0  00.017.024/0001-53  2017-01-02  1082310.35  24.264751     1080998.58   \n",
       "1  00.017.024/0001-53  2017-01-03  1082843.72  24.274863     1081449.09   \n",
       "2  00.017.024/0001-53  2017-01-04  1083398.28  24.284681     1081886.49   \n",
       "3  00.017.024/0001-53  2017-01-05  1083940.08  24.294975     1082345.09   \n",
       "4  00.017.024/0001-53  2017-01-06  1084174.96  24.304952     1082789.54   \n",
       "\n",
       "   CAPTC_DIA  RESG_DIA  NR_COTST  \n",
       "0        0.0       0.0         1  \n",
       "1        0.0       0.0         1  \n",
       "2        0.0       0.0         1  \n",
       "3        0.0       0.0         1  \n",
       "4        0.0       0.0         1  "
      ]
     },
     "execution_count": 114,
     "metadata": {},
     "output_type": "execute_result"
    }
   ],
   "source": [
    "historicSeries.head()"
   ]
  },
  {
   "cell_type": "code",
   "execution_count": 109,
   "metadata": {},
   "outputs": [],
   "source": [
    "insightsIhfa = pd.DataFrame()\n",
    "for cnpj in ihfaFirstQuarter20['CNPJ']:\n",
    "    historicFundTemp = ihfaHistoricSeries[ihfaHistoricSeries['CNPJ']==cnpj]    \n",
    "    historicFundTemp.set_index(\"DATE\", inplace = True) \n",
    "    historicFundTemp = historicFundTemp.join(ibovHistoricClose)\n",
    "    historicFundTemp = historicFundTemp.dropna()\n",
    "    insightsIhfa = insightsIhfa.append([[cnpj,historicFundTemp[[\"NR_COTST\",\"CLOSE\"]].corr().iloc[1,0]]]) \n"
   ]
  },
  {
   "cell_type": "code",
   "execution_count": 106,
   "metadata": {},
   "outputs": [
    {
     "name": "stdout",
     "output_type": "stream",
     "text": [
      "-0.5440476847475839\n"
     ]
    }
   ],
   "source": [
    "#historicFundTemp = ihfaHistoricSeries[ihfaHistoricSeries[\"CNPJ\"]==\"13.001.211/0001-90\"]\n",
    "#historicFundTemp.set_index(\"DATE\", inplace = True)\n",
    "#historicFundTemp = historicFundTemp.join(ibovHistoricClose)\n",
    "#historicFundTemp = historicFundTemp.dropna()\n",
    "#print(historicFundTemp[[\"NR_COTST\",\"CLOSE\"]].corr().iloc[1,0])\n",
    "#historicFundTemp = pd.merge(historicFundTemp,ibovHistoricClose,on='Date', how='inner')"
   ]
  },
  {
   "cell_type": "code",
   "execution_count": 116,
   "metadata": {},
   "outputs": [
    {
     "name": "stdout",
     "output_type": "stream",
     "text": [
      "(244, 1)\n"
     ]
    },
    {
     "data": {
      "text/plain": [
       "(array([12., 13.,  4., 10., 14., 23., 22., 30., 28., 45., 43.]),\n",
       " array([-0.84496521, -0.69291377, -0.54086233, -0.38881089, -0.23675945,\n",
       "        -0.08470801,  0.06734343,  0.21939486,  0.3714463 ,  0.52349774,\n",
       "         0.67554918,  0.82760062]),\n",
       " <BarContainer object of 11 artists>)"
      ]
     },
     "execution_count": 116,
     "metadata": {},
     "output_type": "execute_result"
    },
    {
     "data": {
      "image/png": "[encoded data removed]",
      "text/plain": [
       "<Figure size 432x288 with 1 Axes>"
      ]
     },
     "metadata": {
      "needs_background": "light"
     },
     "output_type": "display_data"
    }
   ],
   "source": [
    "print(insightsIhfa[[1]].shape)\n",
    "\n",
    "plt.hist(insightsIhfa[[1]], bins=11)"
   ]
  },
  {
   "cell_type": "code",
   "execution_count": null,
   "metadata": {},
   "outputs": [],
   "source": []
  }
 ],
 "metadata": {
  "kernelspec": {
   "display_name": "Python 3",
   "language": "python",
   "name": "python3"
  },
  "language_info": {
   "codemirror_mode": {
    "name": "ipython",
    "version": 3
   },
   "file_extension": ".py",
   "mimetype": "text/x-python",
   "name": "python",
   "nbconvert_exporter": "python",
   "pygments_lexer": "ipython3",
   "version": "3.8.5"
  }
 },
 "nbformat": 4,
 "nbformat_minor": 4
}
